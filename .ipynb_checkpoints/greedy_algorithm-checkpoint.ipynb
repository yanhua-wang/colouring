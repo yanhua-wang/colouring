{
 "cells": [
  {
   "cell_type": "code",
   "execution_count": 1,
   "metadata": {},
   "outputs": [],
   "source": [
    "import numpy as np\n",
    "import pandas as pd\n",
    "import itertools"
   ]
  },
  {
   "cell_type": "markdown",
   "metadata": {},
   "source": [
    "Read csv into pandas dataframe"
   ]
  },
  {
   "cell_type": "code",
   "execution_count": 16,
   "metadata": {},
   "outputs": [
    {
     "ename": "AttributeError",
     "evalue": "'DataFrame' object has no attribute 'summary'",
     "output_type": "error",
     "traceback": [
      "\u001b[0;31m---------------------------------------------------------------------------\u001b[0m",
      "\u001b[0;31mAttributeError\u001b[0m                            Traceback (most recent call last)",
      "\u001b[0;32m<ipython-input-16-e0bce0efc2c7>\u001b[0m in \u001b[0;36m<module>\u001b[0;34m\u001b[0m\n\u001b[1;32m      1\u001b[0m \u001b[0mdata\u001b[0m \u001b[0;34m=\u001b[0m \u001b[0mpd\u001b[0m\u001b[0;34m.\u001b[0m\u001b[0mread_csv\u001b[0m\u001b[0;34m(\u001b[0m\u001b[0;34m'yncmods.csv'\u001b[0m\u001b[0;34m)\u001b[0m\u001b[0;34m\u001b[0m\u001b[0;34m\u001b[0m\u001b[0m\n\u001b[1;32m      2\u001b[0m \u001b[0mdata\u001b[0m\u001b[0;34m.\u001b[0m\u001b[0mhead\u001b[0m\u001b[0;34m(\u001b[0m\u001b[0;36m10\u001b[0m\u001b[0;34m)\u001b[0m\u001b[0;34m\u001b[0m\u001b[0;34m\u001b[0m\u001b[0m\n\u001b[0;32m----> 3\u001b[0;31m \u001b[0mdata\u001b[0m\u001b[0;34m.\u001b[0m\u001b[0msummary\u001b[0m\u001b[0;34m(\u001b[0m\u001b[0;34m)\u001b[0m\u001b[0;34m\u001b[0m\u001b[0;34m\u001b[0m\u001b[0m\n\u001b[0m",
      "\u001b[0;32m/anaconda3/lib/python3.7/site-packages/pandas/core/generic.py\u001b[0m in \u001b[0;36m__getattr__\u001b[0;34m(self, name)\u001b[0m\n\u001b[1;32m   4374\u001b[0m             \u001b[0;32mif\u001b[0m \u001b[0mself\u001b[0m\u001b[0;34m.\u001b[0m\u001b[0m_info_axis\u001b[0m\u001b[0;34m.\u001b[0m\u001b[0m_can_hold_identifiers_and_holds_name\u001b[0m\u001b[0;34m(\u001b[0m\u001b[0mname\u001b[0m\u001b[0;34m)\u001b[0m\u001b[0;34m:\u001b[0m\u001b[0;34m\u001b[0m\u001b[0;34m\u001b[0m\u001b[0m\n\u001b[1;32m   4375\u001b[0m                 \u001b[0;32mreturn\u001b[0m \u001b[0mself\u001b[0m\u001b[0;34m[\u001b[0m\u001b[0mname\u001b[0m\u001b[0;34m]\u001b[0m\u001b[0;34m\u001b[0m\u001b[0;34m\u001b[0m\u001b[0m\n\u001b[0;32m-> 4376\u001b[0;31m             \u001b[0;32mreturn\u001b[0m \u001b[0mobject\u001b[0m\u001b[0;34m.\u001b[0m\u001b[0m__getattribute__\u001b[0m\u001b[0;34m(\u001b[0m\u001b[0mself\u001b[0m\u001b[0;34m,\u001b[0m \u001b[0mname\u001b[0m\u001b[0;34m)\u001b[0m\u001b[0;34m\u001b[0m\u001b[0;34m\u001b[0m\u001b[0m\n\u001b[0m\u001b[1;32m   4377\u001b[0m \u001b[0;34m\u001b[0m\u001b[0m\n\u001b[1;32m   4378\u001b[0m     \u001b[0;32mdef\u001b[0m \u001b[0m__setattr__\u001b[0m\u001b[0;34m(\u001b[0m\u001b[0mself\u001b[0m\u001b[0;34m,\u001b[0m \u001b[0mname\u001b[0m\u001b[0;34m,\u001b[0m \u001b[0mvalue\u001b[0m\u001b[0;34m)\u001b[0m\u001b[0;34m:\u001b[0m\u001b[0;34m\u001b[0m\u001b[0;34m\u001b[0m\u001b[0m\n",
      "\u001b[0;31mAttributeError\u001b[0m: 'DataFrame' object has no attribute 'summary'"
     ]
    }
   ],
   "source": [
    "data = pd.read_csv('yncmods.csv')\n",
    "data.head(10)\n",
    "data.summary()"
   ]
  },
  {
   "cell_type": "markdown",
   "metadata": {},
   "source": [
    "## Conditions for being neighbours \n",
    "\n",
    "1000 clashes with 1000 and 2000; \n",
    "2000 clashes with 1000 and 2000; \n",
    "3000 clashes with 3000 and 4000; \n",
    "4000 clashes with 3000 and 4000. \n",
    "Prof cannot be the same "
   ]
  },
  {
   "cell_type": "code",
   "execution_count": 3,
   "metadata": {},
   "outputs": [
    {
     "name": "stdout",
     "output_type": "stream",
     "text": [
      "{'YSC1212-1': ['YSC1216', 'YSC2209', 'YSC2213', 'YSC2221', 'YSC2229', 'YSC2232', 'YSC2239-1', 'YSC2244', 'YSC1207', 'YSC1218', 'YSC1219', 'YSC2203', 'YSC2237', 'YSC2246', 'YSC2202', 'YSC2235', 'YSC2236', 'YSC2247', 'YSC2250', 'YHU2203', 'YHU2222', 'YHU2223', 'YHU2291', 'YHU2310', 'YHU2218', 'YHU2212', 'YHU2294', 'YHU2309', 'YHU2206', 'YHU2260', 'YHU2282', 'YHU2287', 'YHU2303', 'YSS2223', 'YSS2227', 'YSS1203', 'YSS1205', 'YSS2203', 'YSS2211', 'YSS2214', 'YSS2202', 'YSS2237', 'YSS2238', 'YSS1206', 'YSS2208', 'YSS2235', 'YSS2201', 'YSS2216', 'YSS2220', 'YID1201', 'YSC2249', 'YLC1201-1', 'YLC1201-2', 'YLC2201', 'YLL1201', 'YIL2201S', 'YLS1201', 'YLS1202', 'YLS2201', 'YLS2202'], 'YSC1216': ['YSC1212-1', 'YSC2209', 'YSC2213', 'YSC2221', 'YSC2229', 'YSC2232', 'YSC2239-1', 'YSC2244', 'YSC1207', 'YSC1218', 'YSC1219', 'YSC2203', 'YSC2237', 'YSC2246', 'YSC2202', 'YSC2235', 'YSC2236', 'YSC2247', 'YSC2250', 'YHU2203', 'YHU2222', 'YHU2223', 'YHU2291', 'YHU2310', 'YHU2218', 'YHU2212', 'YHU2294', 'YHU2309', 'YHU2206', 'YHU2260', 'YHU2282', 'YHU2287', 'YHU2303', 'YSS2223', 'YSS2227', 'YSS1203', 'YSS1205', 'YSS2203', 'YSS2211', 'YSS2214', 'YSS2202', 'YSS2237', 'YSS2238', 'YSS1206', 'YSS2208', 'YSS2235', 'YSS2201', 'YSS2216', 'YSS2220', 'YID1201', 'YSC2249', 'YLC1201-1', 'YLC1201-2', 'YLC2201', 'YLL1201', 'YIL2201S', 'YLS1201', 'YLS1202', 'YLS2201', 'YLS2202'], 'YSC2209': ['YSC1212-1', 'YSC1216', 'YSC2213', 'YSC2221', 'YSC2229', 'YSC2232', 'YSC2239-1', 'YSC2244', 'YSC3239', 'YSC1207', 'YSC1218', 'YSC1219', 'YSC2203', 'YSC2237', 'YSC2246', 'YSC2202', 'YSC2235', 'YSC2236', 'YSC2247', 'YSC2250', 'YHU2203', 'YHU2222', 'YHU2223', 'YHU2291', 'YHU2310', 'YHU2218', 'YHU2212', 'YHU2294', 'YHU2309', 'YHU2206', 'YHU2260', 'YHU2282', 'YHU2287', 'YHU2303', 'YSS2223', 'YSS2227', 'YSS1203', 'YSS1205', 'YSS2203', 'YSS2211', 'YSS2214', 'YSS2202', 'YSS2237', 'YSS2238', 'YSS1206', 'YSS2208', 'YSS2235', 'YSS2201', 'YSS2216', 'YSS2220', 'YID1201', 'YSC2249', 'YLC1201-1', 'YLC1201-2', 'YLC2201', 'YLL1201', 'YIL2201S', 'YLS1201', 'YLS1202', 'YLS2201', 'YLS2202'], 'YSC2213': ['YSC1212-1', 'YSC1216', 'YSC2209', 'YSC2221', 'YSC2229', 'YSC2232', 'YSC2239-1', 'YSC2244', 'YSC1207', 'YSC1218', 'YSC1219', 'YSC2203', 'YSC2237', 'YSC2246', 'YSC2202', 'YSC2235', 'YSC2236', 'YSC2247', 'YSC2250', 'YHU2203', 'YHU2222', 'YHU2223', 'YHU2291', 'YHU2310', 'YHU2218', 'YHU2212', 'YHU2294', 'YHU2309', 'YHU2206', 'YHU2260', 'YHU2282', 'YHU2287', 'YHU2303', 'YSS2223', 'YSS2227', 'YSS1203', 'YSS1205', 'YSS2203', 'YSS2211', 'YSS2214', 'YSS2202', 'YSS2237', 'YSS2238', 'YSS1206', 'YSS2208', 'YSS2235', 'YSS2201', 'YSS2216', 'YSS2220', 'YID1201', 'YSC2249', 'YLC1201-1', 'YLC1201-2', 'YLC2201', 'YLL1201', 'YIL2201S', 'YLS1201', 'YLS1202', 'YLS2201', 'YLS2202'], 'YSC2221': ['YSC1212-1', 'YSC1216', 'YSC2209', 'YSC2213', 'YSC2229', 'YSC2232', 'YSC2239-1', 'YSC2244', 'YSC1207', 'YSC1218', 'YSC1219', 'YSC2203', 'YSC2237', 'YSC2246', 'YSC2202', 'YSC2235', 'YSC2236', 'YSC2247', 'YSC2250', 'YHU2203', 'YHU2222', 'YHU2223', 'YHU2291', 'YHU2310', 'YHU2218', 'YHU2212', 'YHU2294', 'YHU2309', 'YHU2206', 'YHU2260', 'YHU2282', 'YHU2287', 'YHU2303', 'YSS2223', 'YSS2227', 'YSS1203', 'YSS1205', 'YSS2203', 'YSS2211', 'YSS2214', 'YSS2202', 'YSS2237', 'YSS2238', 'YSS1206', 'YSS2208', 'YSS2235', 'YSS2201', 'YSS2216', 'YSS2220', 'YID1201', 'YSC2249', 'YLC1201-1', 'YLC1201-2', 'YLC2201', 'YLL1201', 'YIL2201S', 'YLS1201', 'YLS1202', 'YLS2201', 'YLS2202'], 'YSC2229': ['YSC1212-1', 'YSC1216', 'YSC2209', 'YSC2213', 'YSC2221', 'YSC2232', 'YSC2239-1', 'YSC2244', 'YSC1207', 'YSC1218', 'YSC1219', 'YSC2203', 'YSC2237', 'YSC2246', 'YSC2202', 'YSC2235', 'YSC2236', 'YSC2247', 'YSC2250', 'YHU2203', 'YHU2222', 'YHU2223', 'YHU2291', 'YHU2310', 'YHU2218', 'YHU2212', 'YHU2294', 'YHU2309', 'YHU2206', 'YHU2260', 'YHU2282', 'YHU2287', 'YHU2303', 'YSS2223', 'YSS2227', 'YSS1203', 'YSS1205', 'YSS2203', 'YSS2211', 'YSS2214', 'YSS2202', 'YSS2237', 'YSS2238', 'YSS1206', 'YSS2208', 'YSS2235', 'YSS2201', 'YSS2216', 'YSS2220', 'YID1201', 'YSC2249', 'YLC1201-1', 'YLC1201-2', 'YLC2201', 'YLL1201', 'YIL2201S', 'YLS1201', 'YLS1202', 'YLS2201', 'YLS2202'], 'YSC2232': ['YSC1212-1', 'YSC1216', 'YSC2209', 'YSC2213', 'YSC2221', 'YSC2229', 'YSC2239-1', 'YSC2244', 'YSC1207', 'YSC1218', 'YSC1219', 'YSC2203', 'YSC2237', 'YSC2246', 'YSC2202', 'YSC2235', 'YSC2236', 'YSC2247', 'YSC2250', 'YHU2203', 'YHU2222', 'YHU2223', 'YHU2291', 'YHU2310', 'YHU2218', 'YHU2212', 'YHU2294', 'YHU2309', 'YHU2206', 'YHU2260', 'YHU2282', 'YHU2287', 'YHU2303', 'YSS2223', 'YSS2227', 'YSS1203', 'YSS1205', 'YSS2203', 'YSS2211', 'YSS2214', 'YSS2202', 'YSS2237', 'YSS2238', 'YSS1206', 'YSS2208', 'YSS2235', 'YSS2201', 'YSS2216', 'YSS2220', 'YID1201', 'YSC2249', 'YLC1201-1', 'YLC1201-2', 'YLC2201', 'YLL1201', 'YIL2201S', 'YLS1201', 'YLS1202', 'YLS2201', 'YLS2202'], 'YSC2239-1': ['YSC1212-1', 'YSC1216', 'YSC2209', 'YSC2213', 'YSC2221', 'YSC2229', 'YSC2232', 'YSC2244', 'YSC1207', 'YSC1218', 'YSC1219', 'YSC2203', 'YSC2237', 'YSC2246', 'YSC2202', 'YSC2235', 'YSC2236', 'YSC2247', 'YSC2250', 'YHU2203', 'YHU2222', 'YHU2223', 'YHU2291', 'YHU2310', 'YHU2218', 'YHU2212', 'YHU2294', 'YHU2309', 'YHU2206', 'YHU2260', 'YHU2282', 'YHU2287', 'YHU2303', 'YSS2223', 'YSS2227', 'YSS1203', 'YSS1205', 'YSS2203', 'YSS2211', 'YSS2214', 'YSS2202', 'YSS2237', 'YSS2238', 'YSS1206', 'YSS2208', 'YSS2235', 'YSS2201', 'YSS2216', 'YSS2220', 'YID1201', 'YSC2249', 'YLC1201-1', 'YLC1201-2', 'YLC2201', 'YLL1201', 'YIL2201S', 'YLS1201', 'YLS1202', 'YLS2201', 'YLS2202'], 'YSC2244': ['YSC1212-1', 'YSC1216', 'YSC2209', 'YSC2213', 'YSC2221', 'YSC2229', 'YSC2232', 'YSC2239-1', 'YSC3217', 'YSC1207', 'YSC1218', 'YSC1219', 'YSC2203', 'YSC2237', 'YSC2246', 'YSC2202', 'YSC2235', 'YSC2236', 'YSC2247', 'YSC2250', 'YHU2203', 'YHU2222', 'YHU2223', 'YHU2291', 'YHU2310', 'YHU2218', 'YHU2212', 'YHU2294', 'YHU2309', 'YHU2206', 'YHU2260', 'YHU2282', 'YHU2287', 'YHU2303', 'YSS2223', 'YSS2227', 'YSS1203', 'YSS1205', 'YSS2203', 'YSS2211', 'YSS2214', 'YSS2202', 'YSS2237', 'YSS2238', 'YSS1206', 'YSS2208', 'YSS2235', 'YSS2201', 'YSS2216', 'YSS2220', 'YID1201', 'YSC2249', 'YLC1201-1', 'YLC1201-2', 'YLC2201', 'YLL1201', 'YIL2201S', 'YLS1201', 'YLS1202', 'YLS2201', 'YLS2202'], 'YSC3217': ['YSC2244', 'YSC3217', 'YSC3239', 'YSC3240', 'YSC3249', 'YSC3252', 'YSC4224', 'YSC4225', 'YSC3224', 'YSC3246', 'YSC4209', 'YSC3253', 'YSC3214', 'YSC3233', 'YSC3241', 'YSC4211', 'YHU3292', 'YHU3327', 'YHU3331', 'YHU4215', 'YHU4216', 'YHU4252', 'YHU3322', 'YHU4231', 'YHU4246', 'YHU3210', 'YHU3211', 'YHU3319', 'YHU3321', 'YHU3329', 'YHU4247', 'YHU4249', 'YHU3212', 'YHU3283', 'YHU3320', 'YSS3290', 'YSS4229', 'YSS4241', 'YSS3203', 'YSS3206', 'YSS3208', 'YSS3220', 'YSS3248', 'YSS3264', 'YSS3299', 'YSS3212', 'YSS3221', 'YSS3225', 'YSS3238', 'YSS3255', 'YSS3295', 'YSS4226', 'YSS4237', 'YSS4256', 'YSS3241', 'YSS3263', 'YSS4224', 'YSS4254', 'YSS3214', 'YSS3219', 'YSS3278', 'YSS3279', 'YSS3285', 'YSS3298', 'YSS3300', 'YSS4230', 'YSS3218', 'YSS3222', 'YSS3235', 'YSS3274', 'YSS4234', 'YSS3231', 'YID3202G', 'YID3202H', 'YID3216', 'YLC3203'], 'YSC3239': ['YSC2209', 'YSC3217', 'YSC3239', 'YSC3240', 'YSC3249', 'YSC3252', 'YSC4224', 'YSC4225', 'YSC3224', 'YSC3246', 'YSC4209', 'YSC3253', 'YSC3214', 'YSC3233', 'YSC3241', 'YSC4211', 'YHU3292', 'YHU3327', 'YHU3331', 'YHU4215', 'YHU4216', 'YHU4252', 'YHU3322', 'YHU4231', 'YHU4246', 'YHU3210', 'YHU3211', 'YHU3319', 'YHU3321', 'YHU3329', 'YHU4247', 'YHU4249', 'YHU3212', 'YHU3283', 'YHU3320', 'YSS3290', 'YSS4229', 'YSS4241', 'YSS3203', 'YSS3206', 'YSS3208', 'YSS3220', 'YSS3248', 'YSS3264', 'YSS3299', 'YSS3212', 'YSS3221', 'YSS3225', 'YSS3238', 'YSS3255', 'YSS3295', 'YSS4226', 'YSS4237', 'YSS4256', 'YSS3241', 'YSS3263', 'YSS4224', 'YSS4254', 'YSS3214', 'YSS3219', 'YSS3278', 'YSS3279', 'YSS3285', 'YSS3298', 'YSS3300', 'YSS4230', 'YSS3218', 'YSS3222', 'YSS3235', 'YSS3274', 'YSS4234', 'YSS3231', 'YID3202G', 'YID3202H', 'YID3216', 'YLC3203'], 'YSC3240': ['YSC3217', 'YSC3239', 'YSC3240', 'YSC3249', 'YSC3252', 'YSC4224', 'YSC4225', 'YSC3224', 'YSC3246', 'YSC4209', 'YSC3253', 'YSC3214', 'YSC3233', 'YSC3241', 'YSC4211', 'YHU3292', 'YHU3327', 'YHU3331', 'YHU4215', 'YHU4216', 'YHU4252', 'YHU3322', 'YHU4231', 'YHU4246', 'YHU3210', 'YHU3211', 'YHU3319', 'YHU3321', 'YHU3329', 'YHU4247', 'YHU4249', 'YHU3212', 'YHU3283', 'YHU3320', 'YSS3290', 'YSS4229', 'YSS4241', 'YSS3203', 'YSS3206', 'YSS3208', 'YSS3220', 'YSS3248', 'YSS3264', 'YSS3299', 'YSS3212', 'YSS3221', 'YSS3225', 'YSS3238', 'YSS3255', 'YSS3295', 'YSS4226', 'YSS4237', 'YSS4256', 'YSS3241', 'YSS3263', 'YSS4224', 'YSS4254', 'YSS3214', 'YSS3219', 'YSS3278', 'YSS3279', 'YSS3285', 'YSS3298', 'YSS3300', 'YSS4230', 'YSS3218', 'YSS3222', 'YSS3235', 'YSS3274', 'YSS4234', 'YSS3231', 'YID3202G', 'YID3202H', 'YID3216', 'YLC3203'], 'YSC3249': ['YSC3217', 'YSC3239', 'YSC3240', 'YSC3249', 'YSC3252', 'YSC4224', 'YSC4225', 'YSC3224', 'YSC3246', 'YSC4209', 'YSC3253', 'YSC3214', 'YSC3233', 'YSC3241', 'YSC4211', 'YHU3292', 'YHU3327', 'YHU3331', 'YHU4215', 'YHU4216', 'YHU4252', 'YHU3322', 'YHU4231', 'YHU4246', 'YHU3210', 'YHU3211', 'YHU3319', 'YHU3321', 'YHU3329', 'YHU4247', 'YHU4249', 'YHU3212', 'YHU3283', 'YHU3320', 'YSS3290', 'YSS4229', 'YSS4241', 'YSS3203', 'YSS3206', 'YSS3208', 'YSS3220', 'YSS3248', 'YSS3264', 'YSS3299', 'YSS3212', 'YSS3221', 'YSS3225', 'YSS3238', 'YSS3255', 'YSS3295', 'YSS4226', 'YSS4237', 'YSS4256', 'YSS3241', 'YSS3263', 'YSS4224', 'YSS4254', 'YSS3214', 'YSS3219', 'YSS3278', 'YSS3279', 'YSS3285', 'YSS3298', 'YSS3300', 'YSS4230', 'YSS3218', 'YSS3222', 'YSS3235', 'YSS3274', 'YSS4234', 'YSS3231', 'YID3202G', 'YID3202H', 'YID3216', 'YLC3203'], 'YSC3252': ['YSC3217', 'YSC3239', 'YSC3240', 'YSC3249', 'YSC3252', 'YSC4224', 'YSC4225', 'YSC3224', 'YSC3246', 'YSC4209', 'YSC3253', 'YSC3214', 'YSC3233', 'YSC3241', 'YSC4211', 'YHU3292', 'YHU3327', 'YHU3331', 'YHU4215', 'YHU4216', 'YHU4252', 'YHU3322', 'YHU4231', 'YHU4246', 'YHU3210', 'YHU3211', 'YHU3319', 'YHU3321', 'YHU3329', 'YHU4247', 'YHU4249', 'YHU3212', 'YHU3283', 'YHU3320', 'YSS3290', 'YSS4229', 'YSS4241', 'YSS3203', 'YSS3206', 'YSS3208', 'YSS3220', 'YSS3248', 'YSS3264', 'YSS3299', 'YSS3212', 'YSS3221', 'YSS3225', 'YSS3238', 'YSS3255', 'YSS3295', 'YSS4226', 'YSS4237', 'YSS4256', 'YSS3241', 'YSS3263', 'YSS4224', 'YSS4254', 'YSS3214', 'YSS3219', 'YSS3278', 'YSS3279', 'YSS3285', 'YSS3298', 'YSS3300', 'YSS4230', 'YSS3218', 'YSS3222', 'YSS3235', 'YSS3274', 'YSS4234', 'YSS3231', 'YID3202G', 'YID3202H', 'YID3216', 'YLC3203'], 'YSC4224': ['YSC3217', 'YSC3239', 'YSC3240', 'YSC3249', 'YSC3252', 'YSC4224', 'YSC4225', 'YSC3224', 'YSC3246', 'YSC4209', 'YSC3253', 'YSC3214', 'YSC3233', 'YSC3241', 'YSC4211', 'YHU3292', 'YHU3327', 'YHU3331', 'YHU4215', 'YHU4216', 'YHU4252', 'YHU3322', 'YHU4231', 'YHU4246', 'YHU3210', 'YHU3211', 'YHU3319', 'YHU3321', 'YHU3329', 'YHU4247', 'YHU4249', 'YHU3212', 'YHU3283', 'YHU3320', 'YSS3290', 'YSS4229', 'YSS4241', 'YSS3203', 'YSS3206', 'YSS3208', 'YSS3220', 'YSS3248', 'YSS3264', 'YSS3299', 'YSS3212', 'YSS3221', 'YSS3225', 'YSS3238', 'YSS3255', 'YSS3295', 'YSS4226', 'YSS4237', 'YSS4256', 'YSS3241', 'YSS3263', 'YSS4224', 'YSS4254', 'YSS3214', 'YSS3219', 'YSS3278', 'YSS3279', 'YSS3285', 'YSS3298', 'YSS3300', 'YSS4230', 'YSS3218', 'YSS3222', 'YSS3235', 'YSS3274', 'YSS4234', 'YSS3231', 'YID3202G', 'YID3202H', 'YID3216', 'YLC3203']}\n"
     ]
    }
   ],
   "source": [
    "dic = {}\n",
    "\n",
    "for i in range(0, 15):\n",
    "    # Add modules of the same level as values\n",
    "    if (data[\"Level\"][i] == 1000) or (data[\"Level\"][i] == 2000): \n",
    "        dic[data[\"Module Code\"][i]] = \\\n",
    "        data[((data[\"Level\"] == 1000) | (data[\"Level\"] == 2000) | (data[\"Instructor\"] == data[\"Instructor\"][i])) \\\n",
    "             & (data[\"Module Code\"] != data[\"Module Code\"][i])][\"Module Code\"].tolist()\n",
    "    elif (data[\"Level\"][i] == 3000) or (data[\"Level\"][i] == 4000): \n",
    "        dic[data[\"Module Code\"][i]] = \\\n",
    "        data[((data[\"Level\"] == 3000) | (data[\"Level\"] == 4000)) | (data[\"Instructor\"] == data[\"Instructor\"][i])\n",
    "             & (data[\"Module Code\"] != data[\"Module Code\"][i])][\"Module Code\"].tolist()\n",
    "        \n",
    "print(dic)"
   ]
  },
  {
   "cell_type": "code",
   "execution_count": 4,
   "metadata": {},
   "outputs": [
    {
     "data": {
      "text/plain": [
       "['YSC1212-1',\n",
       " 'YSC1216',\n",
       " 'YSC2209',\n",
       " 'YSC2213',\n",
       " 'YSC2221',\n",
       " 'YSC2229',\n",
       " 'YSC2232',\n",
       " 'YSC2239-1',\n",
       " 'YSC2244',\n",
       " 'YSC3217',\n",
       " 'YSC3239',\n",
       " 'YSC3240',\n",
       " 'YSC3249',\n",
       " 'YSC3252',\n",
       " 'YSC4224']"
      ]
     },
     "execution_count": 4,
     "metadata": {},
     "output_type": "execute_result"
    }
   ],
   "source": [
    "list(dic.keys())"
   ]
  },
  {
   "cell_type": "code",
   "execution_count": 5,
   "metadata": {},
   "outputs": [
    {
     "ename": "SyntaxError",
     "evalue": "invalid syntax (<ipython-input-5-c81834643787>, line 1)",
     "output_type": "error",
     "traceback": [
      "\u001b[0;36m  File \u001b[0;32m\"<ipython-input-5-c81834643787>\"\u001b[0;36m, line \u001b[0;32m1\u001b[0m\n\u001b[0;31m    if data[\"Level\"][i] = 1000:\u001b[0m\n\u001b[0m                        ^\u001b[0m\n\u001b[0;31mSyntaxError\u001b[0m\u001b[0;31m:\u001b[0m invalid syntax\n"
     ]
    }
   ],
   "source": [
    "if data[\"Level\"][i] = 1000:\n",
    "    for i in range(0, 15):\n",
    "        if "
   ]
  },
  {
   "cell_type": "code",
   "execution_count": 6,
   "metadata": {},
   "outputs": [],
   "source": [
    "def make_matrix(data):\n",
    "    for i in (0, len(data)-1):\n",
    "        \n",
    "        data[\"Instructor\"]"
   ]
  },
  {
   "cell_type": "code",
   "execution_count": 7,
   "metadata": {},
   "outputs": [
    {
     "name": "stdout",
     "output_type": "stream",
     "text": [
      "{'YSC4224': 0, 'YSC3252': 1, 'YSC3249': 2, 'YSC3240': 3, 'YSC3239': 4, 'YSC3217': 5, 'YSC2244': 0, 'YSC2239-1': 1, 'YSC2232': 2, 'YSC2229': 3, 'YSC2221': 4, 'YSC2213': 5, 'YSC2209': 6, 'YSC1216': 7, 'YSC1212-1': 8}\n"
     ]
    }
   ],
   "source": [
    "def first_available(color_list):\n",
    "    \"\"\"Return smallest non-negative integer not in the given list of colors.\"\"\"\n",
    "    color_set = set(color_list)\n",
    "    count = 0\n",
    "    while True:\n",
    "        if count not in color_set:\n",
    "            return count\n",
    "        count += 1\n",
    "        \n",
    "def greedy_color(G, order):\n",
    "    \"\"\"Find the greedy coloring of G in the given order.\n",
    "    The representation of G is assumed to be like https://www.python.org/doc/essays/graphs/\n",
    "    in allowing neighbors of a node/vertex to be iterated over by \"for w in G[node]\".\n",
    "    The return value is a dictionary mapping vertices to their colors.\"\"\"\n",
    "    color = dict()\n",
    "    for node in order:\n",
    "        used_neighbour_colors = [color[nbr] for nbr in G[node]\n",
    "                                 if nbr in color]\n",
    "        color[node] = first_available(used_neighbour_colors)\n",
    "    return color\n",
    "\n",
    "\n",
    "def order(dic): \n",
    "    for i in list(dic.keys()):\n",
    "        print(len(dic[i]))\n",
    "\n",
    "diclist = list(dic.keys())\n",
    "diclist.reverse()\n",
    "\n",
    "        \n",
    "print(greedy_color(dic, diclist))"
   ]
  },
  {
   "cell_type": "code",
   "execution_count": 8,
   "metadata": {},
   "outputs": [
    {
     "name": "stdout",
     "output_type": "stream",
     "text": [
      "({'YSC1212-1': 0, 'YSC1216': 1, 'YSC2209': 2, 'YSC2213': 3, 'YSC2221': 4, 'YSC2229': 5, 'YSC2232': 6, 'YSC2239-1': 7, 'YSC2244': 8, 'YSC3217': 0, 'YSC3239': 1, 'YSC3240': 2, 'YSC3249': 3, 'YSC3252': 4, 'YSC4224': 5}, 8)\n"
     ]
    }
   ],
   "source": [
    "import random\n",
    "\"\"\"\n",
    "RANDOM:\n",
    "Iterate the following process I times:\n",
    "  Randomly permute the vertices;\n",
    "  Apply GREEDY;\n",
    "  If the current coloring is the best one found, save it.\n",
    "Then report the best coloring found.\n",
    "\"\"\"\n",
    "\n",
    "def random_color(G, I):\n",
    "    bestCount = 200000000\n",
    "    bestColoring = {}\n",
    "    for i in range(1,I):\n",
    "        random.shuffle(list(G.keys()))\n",
    "        bestColoring = greedy_color(G,G.keys())\n",
    "        count = max(list(bestColoring.values()))\n",
    "        if count < bestCount:\n",
    "            bestCount = count\n",
    "            bestColoring = G\n",
    "    return bestColoring, bestCount\n",
    "\n",
    "print(random_color(dic, 30))"
   ]
  },
  {
   "cell_type": "code",
   "execution_count": null,
   "metadata": {},
   "outputs": [],
   "source": []
  }
 ],
 "metadata": {
  "kernelspec": {
   "display_name": "Python 3",
   "language": "python",
   "name": "python3"
  },
  "language_info": {
   "codemirror_mode": {
    "name": "ipython",
    "version": 3
   },
   "file_extension": ".py",
   "mimetype": "text/x-python",
   "name": "python",
   "nbconvert_exporter": "python",
   "pygments_lexer": "ipython3",
   "version": "3.7.1"
  }
 },
 "nbformat": 4,
 "nbformat_minor": 2
}
