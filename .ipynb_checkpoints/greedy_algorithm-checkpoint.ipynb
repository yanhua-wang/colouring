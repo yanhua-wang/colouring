{
 "cells": [
  {
   "cell_type": "code",
   "execution_count": 1,
   "metadata": {},
   "outputs": [],
   "source": [
    "import numpy as np\n",
<<<<<<< HEAD
    "import pandas as pd\n",
    "import itertools"
=======
<<<<<<< HEAD
    "import pandas as pd\n",
    "import itertools"
=======
    "import pandas as pd"
>>>>>>> 880e94334f0fe6e8811aa5eb6040f82a1bc27a4c
>>>>>>> 6626b4fc56da2f8e825a9d9b1dd63cd12ec74bf8
   ]
  },
  {
   "cell_type": "markdown",
   "metadata": {},
   "source": [
    "Read csv into pandas dataframe"
   ]
  },
  {
   "cell_type": "code",
<<<<<<< HEAD
   "execution_count": 16,
   "metadata": {},
   "outputs": [
    {
     "ename": "AttributeError",
     "evalue": "'DataFrame' object has no attribute 'summary'",
     "output_type": "error",
     "traceback": [
      "\u001b[0;31m---------------------------------------------------------------------------\u001b[0m",
      "\u001b[0;31mAttributeError\u001b[0m                            Traceback (most recent call last)",
      "\u001b[0;32m<ipython-input-16-e0bce0efc2c7>\u001b[0m in \u001b[0;36m<module>\u001b[0;34m\u001b[0m\n\u001b[1;32m      1\u001b[0m \u001b[0mdata\u001b[0m \u001b[0;34m=\u001b[0m \u001b[0mpd\u001b[0m\u001b[0;34m.\u001b[0m\u001b[0mread_csv\u001b[0m\u001b[0;34m(\u001b[0m\u001b[0;34m'yncmods.csv'\u001b[0m\u001b[0;34m)\u001b[0m\u001b[0;34m\u001b[0m\u001b[0;34m\u001b[0m\u001b[0m\n\u001b[1;32m      2\u001b[0m \u001b[0mdata\u001b[0m\u001b[0;34m.\u001b[0m\u001b[0mhead\u001b[0m\u001b[0;34m(\u001b[0m\u001b[0;36m10\u001b[0m\u001b[0;34m)\u001b[0m\u001b[0;34m\u001b[0m\u001b[0;34m\u001b[0m\u001b[0m\n\u001b[0;32m----> 3\u001b[0;31m \u001b[0mdata\u001b[0m\u001b[0;34m.\u001b[0m\u001b[0msummary\u001b[0m\u001b[0;34m(\u001b[0m\u001b[0;34m)\u001b[0m\u001b[0;34m\u001b[0m\u001b[0;34m\u001b[0m\u001b[0m\n\u001b[0m",
      "\u001b[0;32m/anaconda3/lib/python3.7/site-packages/pandas/core/generic.py\u001b[0m in \u001b[0;36m__getattr__\u001b[0;34m(self, name)\u001b[0m\n\u001b[1;32m   4374\u001b[0m             \u001b[0;32mif\u001b[0m \u001b[0mself\u001b[0m\u001b[0;34m.\u001b[0m\u001b[0m_info_axis\u001b[0m\u001b[0;34m.\u001b[0m\u001b[0m_can_hold_identifiers_and_holds_name\u001b[0m\u001b[0;34m(\u001b[0m\u001b[0mname\u001b[0m\u001b[0;34m)\u001b[0m\u001b[0;34m:\u001b[0m\u001b[0;34m\u001b[0m\u001b[0;34m\u001b[0m\u001b[0m\n\u001b[1;32m   4375\u001b[0m                 \u001b[0;32mreturn\u001b[0m \u001b[0mself\u001b[0m\u001b[0;34m[\u001b[0m\u001b[0mname\u001b[0m\u001b[0;34m]\u001b[0m\u001b[0;34m\u001b[0m\u001b[0;34m\u001b[0m\u001b[0m\n\u001b[0;32m-> 4376\u001b[0;31m             \u001b[0;32mreturn\u001b[0m \u001b[0mobject\u001b[0m\u001b[0;34m.\u001b[0m\u001b[0m__getattribute__\u001b[0m\u001b[0;34m(\u001b[0m\u001b[0mself\u001b[0m\u001b[0;34m,\u001b[0m \u001b[0mname\u001b[0m\u001b[0;34m)\u001b[0m\u001b[0;34m\u001b[0m\u001b[0;34m\u001b[0m\u001b[0m\n\u001b[0m\u001b[1;32m   4377\u001b[0m \u001b[0;34m\u001b[0m\u001b[0m\n\u001b[1;32m   4378\u001b[0m     \u001b[0;32mdef\u001b[0m \u001b[0m__setattr__\u001b[0m\u001b[0;34m(\u001b[0m\u001b[0mself\u001b[0m\u001b[0;34m,\u001b[0m \u001b[0mname\u001b[0m\u001b[0;34m,\u001b[0m \u001b[0mvalue\u001b[0m\u001b[0;34m)\u001b[0m\u001b[0;34m:\u001b[0m\u001b[0;34m\u001b[0m\u001b[0;34m\u001b[0m\u001b[0m\n",
      "\u001b[0;31mAttributeError\u001b[0m: 'DataFrame' object has no attribute 'summary'"
     ]
=======
<<<<<<< HEAD
   "execution_count": 14,
=======
   "execution_count": 2,
>>>>>>> 880e94334f0fe6e8811aa5eb6040f82a1bc27a4c
   "metadata": {},
   "outputs": [
    {
     "data": {
      "text/html": [
       "<div>\n",
       "<style scoped>\n",
       "    .dataframe tbody tr th:only-of-type {\n",
       "        vertical-align: middle;\n",
       "    }\n",
       "\n",
       "    .dataframe tbody tr th {\n",
       "        vertical-align: top;\n",
       "    }\n",
       "\n",
       "    .dataframe thead th {\n",
       "        text-align: right;\n",
       "    }\n",
       "</style>\n",
       "<table border=\"1\" class=\"dataframe\">\n",
       "  <thead>\n",
       "    <tr style=\"text-align: right;\">\n",
       "      <th></th>\n",
       "      <th>Module Code</th>\n",
       "      <th>Level</th>\n",
       "      <th>Instructor</th>\n",
       "      <th>Major</th>\n",
       "    </tr>\n",
       "  </thead>\n",
       "  <tbody>\n",
       "    <tr>\n",
<<<<<<< HEAD
       "      <td>0</td>\n",
=======
       "      <th>0</th>\n",
>>>>>>> 880e94334f0fe6e8811aa5eb6040f82a1bc27a4c
       "      <td>YSC1212-1</td>\n",
       "      <td>1000</td>\n",
       "      <td>DANVY</td>\n",
       "      <td>MCS</td>\n",
       "    </tr>\n",
       "    <tr>\n",
<<<<<<< HEAD
       "      <td>1</td>\n",
=======
       "      <th>1</th>\n",
>>>>>>> 880e94334f0fe6e8811aa5eb6040f82a1bc27a4c
       "      <td>YSC1216</td>\n",
       "      <td>1000</td>\n",
       "      <td>WERTZ</td>\n",
       "      <td>MCS</td>\n",
       "    </tr>\n",
       "    <tr>\n",
<<<<<<< HEAD
       "      <td>2</td>\n",
=======
       "      <th>2</th>\n",
>>>>>>> 880e94334f0fe6e8811aa5eb6040f82a1bc27a4c
       "      <td>YSC2209</td>\n",
       "      <td>2000</td>\n",
       "      <td>FRANCESCA</td>\n",
       "      <td>MCS</td>\n",
       "    </tr>\n",
       "    <tr>\n",
<<<<<<< HEAD
       "      <td>3</td>\n",
=======
       "      <th>3</th>\n",
>>>>>>> 880e94334f0fe6e8811aa5eb6040f82a1bc27a4c
       "      <td>YSC2213</td>\n",
       "      <td>2000</td>\n",
       "      <td>STAMPS</td>\n",
       "      <td>MCS</td>\n",
       "    </tr>\n",
       "    <tr>\n",
<<<<<<< HEAD
       "      <td>4</td>\n",
=======
       "      <th>4</th>\n",
>>>>>>> 880e94334f0fe6e8811aa5eb6040f82a1bc27a4c
       "      <td>YSC2221</td>\n",
       "      <td>2000</td>\n",
       "      <td>RAZVAN</td>\n",
       "      <td>MCS</td>\n",
       "    </tr>\n",
       "    <tr>\n",
<<<<<<< HEAD
       "      <td>...</td>\n",
=======
       "      <th>...</th>\n",
>>>>>>> 880e94334f0fe6e8811aa5eb6040f82a1bc27a4c
       "      <td>...</td>\n",
       "      <td>...</td>\n",
       "      <td>...</td>\n",
       "      <td>...</td>\n",
       "    </tr>\n",
       "    <tr>\n",
<<<<<<< HEAD
       "      <td>132</td>\n",
=======
       "      <th>132</th>\n",
>>>>>>> 880e94334f0fe6e8811aa5eb6040f82a1bc27a4c
       "      <td>YIL2201S</td>\n",
       "      <td>2000</td>\n",
       "      <td>AIIS INDIA</td>\n",
       "      <td>SANSKRIT</td>\n",
       "    </tr>\n",
       "    <tr>\n",
<<<<<<< HEAD
       "      <td>133</td>\n",
=======
       "      <th>133</th>\n",
>>>>>>> 880e94334f0fe6e8811aa5eb6040f82a1bc27a4c
       "      <td>YLS1201</td>\n",
       "      <td>1000</td>\n",
       "      <td>LAGE-OTERO</td>\n",
       "      <td>SPANISH</td>\n",
       "    </tr>\n",
       "    <tr>\n",
<<<<<<< HEAD
       "      <td>134</td>\n",
=======
       "      <th>134</th>\n",
>>>>>>> 880e94334f0fe6e8811aa5eb6040f82a1bc27a4c
       "      <td>YLS1202</td>\n",
       "      <td>1000</td>\n",
       "      <td>LAGE-OTERO</td>\n",
       "      <td>SPANISH</td>\n",
       "    </tr>\n",
       "    <tr>\n",
<<<<<<< HEAD
       "      <td>135</td>\n",
=======
       "      <th>135</th>\n",
>>>>>>> 880e94334f0fe6e8811aa5eb6040f82a1bc27a4c
       "      <td>YLS2201</td>\n",
       "      <td>2000</td>\n",
       "      <td>ESPADAS</td>\n",
       "      <td>SPANISH</td>\n",
       "    </tr>\n",
       "    <tr>\n",
<<<<<<< HEAD
       "      <td>136</td>\n",
=======
       "      <th>136</th>\n",
>>>>>>> 880e94334f0fe6e8811aa5eb6040f82a1bc27a4c
       "      <td>YLS2202</td>\n",
       "      <td>2000</td>\n",
       "      <td>ESPADAS</td>\n",
       "      <td>SPANISH</td>\n",
       "    </tr>\n",
       "  </tbody>\n",
       "</table>\n",
       "<p>137 rows × 4 columns</p>\n",
       "</div>"
      ],
      "text/plain": [
       "    Module Code  Level  Instructor     Major\n",
       "0     YSC1212-1   1000       DANVY       MCS\n",
       "1       YSC1216   1000       WERTZ       MCS\n",
       "2       YSC2209   2000   FRANCESCA       MCS\n",
       "3       YSC2213   2000      STAMPS       MCS\n",
       "4       YSC2221   2000      RAZVAN       MCS\n",
       "..          ...    ...         ...       ...\n",
       "132    YIL2201S   2000  AIIS INDIA  SANSKRIT\n",
       "133     YLS1201   1000  LAGE-OTERO   SPANISH\n",
       "134     YLS1202   1000  LAGE-OTERO   SPANISH\n",
       "135     YLS2201   2000     ESPADAS   SPANISH\n",
       "136     YLS2202   2000     ESPADAS   SPANISH\n",
       "\n",
       "[137 rows x 4 columns]"
      ]
     },
<<<<<<< HEAD
     "execution_count": 14,
=======
     "execution_count": 2,
>>>>>>> 880e94334f0fe6e8811aa5eb6040f82a1bc27a4c
     "metadata": {},
     "output_type": "execute_result"
>>>>>>> 6626b4fc56da2f8e825a9d9b1dd63cd12ec74bf8
    }
   ],
   "source": [
    "data = pd.read_csv('yncmods.csv')\n",
<<<<<<< HEAD
    "data.head(10)\n",
    "data.summary()"
=======
    "\n",
    "df = pd.DataFrame(data)\n",
    "\n",
    "df"
>>>>>>> 6626b4fc56da2f8e825a9d9b1dd63cd12ec74bf8
   ]
  },
  {
   "cell_type": "markdown",
   "metadata": {},
   "source": [
    "## Conditions for being neighbours \n",
    "\n",
    "1000 clashes with 1000 and 2000; \n",
    "2000 clashes with 1000 and 2000; \n",
    "3000 clashes with 3000 and 4000; \n",
    "4000 clashes with 3000 and 4000. \n",
    "Prof cannot be the same "
   ]
  },
  {
   "cell_type": "code",
<<<<<<< HEAD
   "execution_count": 3,
=======
<<<<<<< HEAD
   "execution_count": 93,
=======
   "execution_count": 3,
>>>>>>> 880e94334f0fe6e8811aa5eb6040f82a1bc27a4c
>>>>>>> 6626b4fc56da2f8e825a9d9b1dd63cd12ec74bf8
   "metadata": {},
   "outputs": [
    {
     "name": "stdout",
     "output_type": "stream",
     "text": [
<<<<<<< HEAD
      "{'YSC1212-1': ['YSC1216', 'YSC2209', 'YSC2213', 'YSC2221', 'YSC2229', 'YSC2232', 'YSC2239-1', 'YSC2244', 'YSC1207', 'YSC1218', 'YSC1219', 'YSC2203', 'YSC2237', 'YSC2246', 'YSC2202', 'YSC2235', 'YSC2236', 'YSC2247', 'YSC2250', 'YHU2203', 'YHU2222', 'YHU2223', 'YHU2291', 'YHU2310', 'YHU2218', 'YHU2212', 'YHU2294', 'YHU2309', 'YHU2206', 'YHU2260', 'YHU2282', 'YHU2287', 'YHU2303', 'YSS2223', 'YSS2227', 'YSS1203', 'YSS1205', 'YSS2203', 'YSS2211', 'YSS2214', 'YSS2202', 'YSS2237', 'YSS2238', 'YSS1206', 'YSS2208', 'YSS2235', 'YSS2201', 'YSS2216', 'YSS2220', 'YID1201', 'YSC2249', 'YLC1201-1', 'YLC1201-2', 'YLC2201', 'YLL1201', 'YIL2201S', 'YLS1201', 'YLS1202', 'YLS2201', 'YLS2202'], 'YSC1216': ['YSC1212-1', 'YSC2209', 'YSC2213', 'YSC2221', 'YSC2229', 'YSC2232', 'YSC2239-1', 'YSC2244', 'YSC1207', 'YSC1218', 'YSC1219', 'YSC2203', 'YSC2237', 'YSC2246', 'YSC2202', 'YSC2235', 'YSC2236', 'YSC2247', 'YSC2250', 'YHU2203', 'YHU2222', 'YHU2223', 'YHU2291', 'YHU2310', 'YHU2218', 'YHU2212', 'YHU2294', 'YHU2309', 'YHU2206', 'YHU2260', 'YHU2282', 'YHU2287', 'YHU2303', 'YSS2223', 'YSS2227', 'YSS1203', 'YSS1205', 'YSS2203', 'YSS2211', 'YSS2214', 'YSS2202', 'YSS2237', 'YSS2238', 'YSS1206', 'YSS2208', 'YSS2235', 'YSS2201', 'YSS2216', 'YSS2220', 'YID1201', 'YSC2249', 'YLC1201-1', 'YLC1201-2', 'YLC2201', 'YLL1201', 'YIL2201S', 'YLS1201', 'YLS1202', 'YLS2201', 'YLS2202'], 'YSC2209': ['YSC1212-1', 'YSC1216', 'YSC2213', 'YSC2221', 'YSC2229', 'YSC2232', 'YSC2239-1', 'YSC2244', 'YSC3239', 'YSC1207', 'YSC1218', 'YSC1219', 'YSC2203', 'YSC2237', 'YSC2246', 'YSC2202', 'YSC2235', 'YSC2236', 'YSC2247', 'YSC2250', 'YHU2203', 'YHU2222', 'YHU2223', 'YHU2291', 'YHU2310', 'YHU2218', 'YHU2212', 'YHU2294', 'YHU2309', 'YHU2206', 'YHU2260', 'YHU2282', 'YHU2287', 'YHU2303', 'YSS2223', 'YSS2227', 'YSS1203', 'YSS1205', 'YSS2203', 'YSS2211', 'YSS2214', 'YSS2202', 'YSS2237', 'YSS2238', 'YSS1206', 'YSS2208', 'YSS2235', 'YSS2201', 'YSS2216', 'YSS2220', 'YID1201', 'YSC2249', 'YLC1201-1', 'YLC1201-2', 'YLC2201', 'YLL1201', 'YIL2201S', 'YLS1201', 'YLS1202', 'YLS2201', 'YLS2202'], 'YSC2213': ['YSC1212-1', 'YSC1216', 'YSC2209', 'YSC2221', 'YSC2229', 'YSC2232', 'YSC2239-1', 'YSC2244', 'YSC1207', 'YSC1218', 'YSC1219', 'YSC2203', 'YSC2237', 'YSC2246', 'YSC2202', 'YSC2235', 'YSC2236', 'YSC2247', 'YSC2250', 'YHU2203', 'YHU2222', 'YHU2223', 'YHU2291', 'YHU2310', 'YHU2218', 'YHU2212', 'YHU2294', 'YHU2309', 'YHU2206', 'YHU2260', 'YHU2282', 'YHU2287', 'YHU2303', 'YSS2223', 'YSS2227', 'YSS1203', 'YSS1205', 'YSS2203', 'YSS2211', 'YSS2214', 'YSS2202', 'YSS2237', 'YSS2238', 'YSS1206', 'YSS2208', 'YSS2235', 'YSS2201', 'YSS2216', 'YSS2220', 'YID1201', 'YSC2249', 'YLC1201-1', 'YLC1201-2', 'YLC2201', 'YLL1201', 'YIL2201S', 'YLS1201', 'YLS1202', 'YLS2201', 'YLS2202'], 'YSC2221': ['YSC1212-1', 'YSC1216', 'YSC2209', 'YSC2213', 'YSC2229', 'YSC2232', 'YSC2239-1', 'YSC2244', 'YSC1207', 'YSC1218', 'YSC1219', 'YSC2203', 'YSC2237', 'YSC2246', 'YSC2202', 'YSC2235', 'YSC2236', 'YSC2247', 'YSC2250', 'YHU2203', 'YHU2222', 'YHU2223', 'YHU2291', 'YHU2310', 'YHU2218', 'YHU2212', 'YHU2294', 'YHU2309', 'YHU2206', 'YHU2260', 'YHU2282', 'YHU2287', 'YHU2303', 'YSS2223', 'YSS2227', 'YSS1203', 'YSS1205', 'YSS2203', 'YSS2211', 'YSS2214', 'YSS2202', 'YSS2237', 'YSS2238', 'YSS1206', 'YSS2208', 'YSS2235', 'YSS2201', 'YSS2216', 'YSS2220', 'YID1201', 'YSC2249', 'YLC1201-1', 'YLC1201-2', 'YLC2201', 'YLL1201', 'YIL2201S', 'YLS1201', 'YLS1202', 'YLS2201', 'YLS2202'], 'YSC2229': ['YSC1212-1', 'YSC1216', 'YSC2209', 'YSC2213', 'YSC2221', 'YSC2232', 'YSC2239-1', 'YSC2244', 'YSC1207', 'YSC1218', 'YSC1219', 'YSC2203', 'YSC2237', 'YSC2246', 'YSC2202', 'YSC2235', 'YSC2236', 'YSC2247', 'YSC2250', 'YHU2203', 'YHU2222', 'YHU2223', 'YHU2291', 'YHU2310', 'YHU2218', 'YHU2212', 'YHU2294', 'YHU2309', 'YHU2206', 'YHU2260', 'YHU2282', 'YHU2287', 'YHU2303', 'YSS2223', 'YSS2227', 'YSS1203', 'YSS1205', 'YSS2203', 'YSS2211', 'YSS2214', 'YSS2202', 'YSS2237', 'YSS2238', 'YSS1206', 'YSS2208', 'YSS2235', 'YSS2201', 'YSS2216', 'YSS2220', 'YID1201', 'YSC2249', 'YLC1201-1', 'YLC1201-2', 'YLC2201', 'YLL1201', 'YIL2201S', 'YLS1201', 'YLS1202', 'YLS2201', 'YLS2202'], 'YSC2232': ['YSC1212-1', 'YSC1216', 'YSC2209', 'YSC2213', 'YSC2221', 'YSC2229', 'YSC2239-1', 'YSC2244', 'YSC1207', 'YSC1218', 'YSC1219', 'YSC2203', 'YSC2237', 'YSC2246', 'YSC2202', 'YSC2235', 'YSC2236', 'YSC2247', 'YSC2250', 'YHU2203', 'YHU2222', 'YHU2223', 'YHU2291', 'YHU2310', 'YHU2218', 'YHU2212', 'YHU2294', 'YHU2309', 'YHU2206', 'YHU2260', 'YHU2282', 'YHU2287', 'YHU2303', 'YSS2223', 'YSS2227', 'YSS1203', 'YSS1205', 'YSS2203', 'YSS2211', 'YSS2214', 'YSS2202', 'YSS2237', 'YSS2238', 'YSS1206', 'YSS2208', 'YSS2235', 'YSS2201', 'YSS2216', 'YSS2220', 'YID1201', 'YSC2249', 'YLC1201-1', 'YLC1201-2', 'YLC2201', 'YLL1201', 'YIL2201S', 'YLS1201', 'YLS1202', 'YLS2201', 'YLS2202'], 'YSC2239-1': ['YSC1212-1', 'YSC1216', 'YSC2209', 'YSC2213', 'YSC2221', 'YSC2229', 'YSC2232', 'YSC2244', 'YSC1207', 'YSC1218', 'YSC1219', 'YSC2203', 'YSC2237', 'YSC2246', 'YSC2202', 'YSC2235', 'YSC2236', 'YSC2247', 'YSC2250', 'YHU2203', 'YHU2222', 'YHU2223', 'YHU2291', 'YHU2310', 'YHU2218', 'YHU2212', 'YHU2294', 'YHU2309', 'YHU2206', 'YHU2260', 'YHU2282', 'YHU2287', 'YHU2303', 'YSS2223', 'YSS2227', 'YSS1203', 'YSS1205', 'YSS2203', 'YSS2211', 'YSS2214', 'YSS2202', 'YSS2237', 'YSS2238', 'YSS1206', 'YSS2208', 'YSS2235', 'YSS2201', 'YSS2216', 'YSS2220', 'YID1201', 'YSC2249', 'YLC1201-1', 'YLC1201-2', 'YLC2201', 'YLL1201', 'YIL2201S', 'YLS1201', 'YLS1202', 'YLS2201', 'YLS2202'], 'YSC2244': ['YSC1212-1', 'YSC1216', 'YSC2209', 'YSC2213', 'YSC2221', 'YSC2229', 'YSC2232', 'YSC2239-1', 'YSC3217', 'YSC1207', 'YSC1218', 'YSC1219', 'YSC2203', 'YSC2237', 'YSC2246', 'YSC2202', 'YSC2235', 'YSC2236', 'YSC2247', 'YSC2250', 'YHU2203', 'YHU2222', 'YHU2223', 'YHU2291', 'YHU2310', 'YHU2218', 'YHU2212', 'YHU2294', 'YHU2309', 'YHU2206', 'YHU2260', 'YHU2282', 'YHU2287', 'YHU2303', 'YSS2223', 'YSS2227', 'YSS1203', 'YSS1205', 'YSS2203', 'YSS2211', 'YSS2214', 'YSS2202', 'YSS2237', 'YSS2238', 'YSS1206', 'YSS2208', 'YSS2235', 'YSS2201', 'YSS2216', 'YSS2220', 'YID1201', 'YSC2249', 'YLC1201-1', 'YLC1201-2', 'YLC2201', 'YLL1201', 'YIL2201S', 'YLS1201', 'YLS1202', 'YLS2201', 'YLS2202'], 'YSC3217': ['YSC2244', 'YSC3217', 'YSC3239', 'YSC3240', 'YSC3249', 'YSC3252', 'YSC4224', 'YSC4225', 'YSC3224', 'YSC3246', 'YSC4209', 'YSC3253', 'YSC3214', 'YSC3233', 'YSC3241', 'YSC4211', 'YHU3292', 'YHU3327', 'YHU3331', 'YHU4215', 'YHU4216', 'YHU4252', 'YHU3322', 'YHU4231', 'YHU4246', 'YHU3210', 'YHU3211', 'YHU3319', 'YHU3321', 'YHU3329', 'YHU4247', 'YHU4249', 'YHU3212', 'YHU3283', 'YHU3320', 'YSS3290', 'YSS4229', 'YSS4241', 'YSS3203', 'YSS3206', 'YSS3208', 'YSS3220', 'YSS3248', 'YSS3264', 'YSS3299', 'YSS3212', 'YSS3221', 'YSS3225', 'YSS3238', 'YSS3255', 'YSS3295', 'YSS4226', 'YSS4237', 'YSS4256', 'YSS3241', 'YSS3263', 'YSS4224', 'YSS4254', 'YSS3214', 'YSS3219', 'YSS3278', 'YSS3279', 'YSS3285', 'YSS3298', 'YSS3300', 'YSS4230', 'YSS3218', 'YSS3222', 'YSS3235', 'YSS3274', 'YSS4234', 'YSS3231', 'YID3202G', 'YID3202H', 'YID3216', 'YLC3203'], 'YSC3239': ['YSC2209', 'YSC3217', 'YSC3239', 'YSC3240', 'YSC3249', 'YSC3252', 'YSC4224', 'YSC4225', 'YSC3224', 'YSC3246', 'YSC4209', 'YSC3253', 'YSC3214', 'YSC3233', 'YSC3241', 'YSC4211', 'YHU3292', 'YHU3327', 'YHU3331', 'YHU4215', 'YHU4216', 'YHU4252', 'YHU3322', 'YHU4231', 'YHU4246', 'YHU3210', 'YHU3211', 'YHU3319', 'YHU3321', 'YHU3329', 'YHU4247', 'YHU4249', 'YHU3212', 'YHU3283', 'YHU3320', 'YSS3290', 'YSS4229', 'YSS4241', 'YSS3203', 'YSS3206', 'YSS3208', 'YSS3220', 'YSS3248', 'YSS3264', 'YSS3299', 'YSS3212', 'YSS3221', 'YSS3225', 'YSS3238', 'YSS3255', 'YSS3295', 'YSS4226', 'YSS4237', 'YSS4256', 'YSS3241', 'YSS3263', 'YSS4224', 'YSS4254', 'YSS3214', 'YSS3219', 'YSS3278', 'YSS3279', 'YSS3285', 'YSS3298', 'YSS3300', 'YSS4230', 'YSS3218', 'YSS3222', 'YSS3235', 'YSS3274', 'YSS4234', 'YSS3231', 'YID3202G', 'YID3202H', 'YID3216', 'YLC3203'], 'YSC3240': ['YSC3217', 'YSC3239', 'YSC3240', 'YSC3249', 'YSC3252', 'YSC4224', 'YSC4225', 'YSC3224', 'YSC3246', 'YSC4209', 'YSC3253', 'YSC3214', 'YSC3233', 'YSC3241', 'YSC4211', 'YHU3292', 'YHU3327', 'YHU3331', 'YHU4215', 'YHU4216', 'YHU4252', 'YHU3322', 'YHU4231', 'YHU4246', 'YHU3210', 'YHU3211', 'YHU3319', 'YHU3321', 'YHU3329', 'YHU4247', 'YHU4249', 'YHU3212', 'YHU3283', 'YHU3320', 'YSS3290', 'YSS4229', 'YSS4241', 'YSS3203', 'YSS3206', 'YSS3208', 'YSS3220', 'YSS3248', 'YSS3264', 'YSS3299', 'YSS3212', 'YSS3221', 'YSS3225', 'YSS3238', 'YSS3255', 'YSS3295', 'YSS4226', 'YSS4237', 'YSS4256', 'YSS3241', 'YSS3263', 'YSS4224', 'YSS4254', 'YSS3214', 'YSS3219', 'YSS3278', 'YSS3279', 'YSS3285', 'YSS3298', 'YSS3300', 'YSS4230', 'YSS3218', 'YSS3222', 'YSS3235', 'YSS3274', 'YSS4234', 'YSS3231', 'YID3202G', 'YID3202H', 'YID3216', 'YLC3203'], 'YSC3249': ['YSC3217', 'YSC3239', 'YSC3240', 'YSC3249', 'YSC3252', 'YSC4224', 'YSC4225', 'YSC3224', 'YSC3246', 'YSC4209', 'YSC3253', 'YSC3214', 'YSC3233', 'YSC3241', 'YSC4211', 'YHU3292', 'YHU3327', 'YHU3331', 'YHU4215', 'YHU4216', 'YHU4252', 'YHU3322', 'YHU4231', 'YHU4246', 'YHU3210', 'YHU3211', 'YHU3319', 'YHU3321', 'YHU3329', 'YHU4247', 'YHU4249', 'YHU3212', 'YHU3283', 'YHU3320', 'YSS3290', 'YSS4229', 'YSS4241', 'YSS3203', 'YSS3206', 'YSS3208', 'YSS3220', 'YSS3248', 'YSS3264', 'YSS3299', 'YSS3212', 'YSS3221', 'YSS3225', 'YSS3238', 'YSS3255', 'YSS3295', 'YSS4226', 'YSS4237', 'YSS4256', 'YSS3241', 'YSS3263', 'YSS4224', 'YSS4254', 'YSS3214', 'YSS3219', 'YSS3278', 'YSS3279', 'YSS3285', 'YSS3298', 'YSS3300', 'YSS4230', 'YSS3218', 'YSS3222', 'YSS3235', 'YSS3274', 'YSS4234', 'YSS3231', 'YID3202G', 'YID3202H', 'YID3216', 'YLC3203'], 'YSC3252': ['YSC3217', 'YSC3239', 'YSC3240', 'YSC3249', 'YSC3252', 'YSC4224', 'YSC4225', 'YSC3224', 'YSC3246', 'YSC4209', 'YSC3253', 'YSC3214', 'YSC3233', 'YSC3241', 'YSC4211', 'YHU3292', 'YHU3327', 'YHU3331', 'YHU4215', 'YHU4216', 'YHU4252', 'YHU3322', 'YHU4231', 'YHU4246', 'YHU3210', 'YHU3211', 'YHU3319', 'YHU3321', 'YHU3329', 'YHU4247', 'YHU4249', 'YHU3212', 'YHU3283', 'YHU3320', 'YSS3290', 'YSS4229', 'YSS4241', 'YSS3203', 'YSS3206', 'YSS3208', 'YSS3220', 'YSS3248', 'YSS3264', 'YSS3299', 'YSS3212', 'YSS3221', 'YSS3225', 'YSS3238', 'YSS3255', 'YSS3295', 'YSS4226', 'YSS4237', 'YSS4256', 'YSS3241', 'YSS3263', 'YSS4224', 'YSS4254', 'YSS3214', 'YSS3219', 'YSS3278', 'YSS3279', 'YSS3285', 'YSS3298', 'YSS3300', 'YSS4230', 'YSS3218', 'YSS3222', 'YSS3235', 'YSS3274', 'YSS4234', 'YSS3231', 'YID3202G', 'YID3202H', 'YID3216', 'YLC3203'], 'YSC4224': ['YSC3217', 'YSC3239', 'YSC3240', 'YSC3249', 'YSC3252', 'YSC4224', 'YSC4225', 'YSC3224', 'YSC3246', 'YSC4209', 'YSC3253', 'YSC3214', 'YSC3233', 'YSC3241', 'YSC4211', 'YHU3292', 'YHU3327', 'YHU3331', 'YHU4215', 'YHU4216', 'YHU4252', 'YHU3322', 'YHU4231', 'YHU4246', 'YHU3210', 'YHU3211', 'YHU3319', 'YHU3321', 'YHU3329', 'YHU4247', 'YHU4249', 'YHU3212', 'YHU3283', 'YHU3320', 'YSS3290', 'YSS4229', 'YSS4241', 'YSS3203', 'YSS3206', 'YSS3208', 'YSS3220', 'YSS3248', 'YSS3264', 'YSS3299', 'YSS3212', 'YSS3221', 'YSS3225', 'YSS3238', 'YSS3255', 'YSS3295', 'YSS4226', 'YSS4237', 'YSS4256', 'YSS3241', 'YSS3263', 'YSS4224', 'YSS4254', 'YSS3214', 'YSS3219', 'YSS3278', 'YSS3279', 'YSS3285', 'YSS3298', 'YSS3300', 'YSS4230', 'YSS3218', 'YSS3222', 'YSS3235', 'YSS3274', 'YSS4234', 'YSS3231', 'YID3202G', 'YID3202H', 'YID3216', 'YLC3203']}\n"
=======
      "{'YSC1212-1': ['YSC1216', 'YSC2209', 'YSC2213', 'YSC2221', 'YSC2229', 'YSC2232', 'YSC2239-1', 'YSC2244'], 'YSC1216': ['YSC1212-1', 'YSC2209', 'YSC2213', 'YSC2221', 'YSC2229', 'YSC2232', 'YSC2239-1', 'YSC2244'], 'YSC2209': ['YSC1212-1', 'YSC1216', 'YSC2213', 'YSC2221', 'YSC2229', 'YSC2232', 'YSC2239-1', 'YSC2244', 'YSC3239'], 'YSC2213': ['YSC1212-1', 'YSC1216', 'YSC2209', 'YSC2221', 'YSC2229', 'YSC2232', 'YSC2239-1', 'YSC2244'], 'YSC2221': ['YSC1212-1', 'YSC1216', 'YSC2209', 'YSC2213', 'YSC2229', 'YSC2232', 'YSC2239-1', 'YSC2244'], 'YSC2229': ['YSC1212-1', 'YSC1216', 'YSC2209', 'YSC2213', 'YSC2221', 'YSC2232', 'YSC2239-1', 'YSC2244'], 'YSC2232': ['YSC1212-1', 'YSC1216', 'YSC2209', 'YSC2213', 'YSC2221', 'YSC2229', 'YSC2239-1', 'YSC2244'], 'YSC2239-1': ['YSC1212-1', 'YSC1216', 'YSC2209', 'YSC2213', 'YSC2221', 'YSC2229', 'YSC2232', 'YSC2244'], 'YSC2244': ['YSC1212-1', 'YSC1216', 'YSC2209', 'YSC2213', 'YSC2221', 'YSC2229', 'YSC2232', 'YSC2239-1', 'YSC3217'], 'YSC3217': ['YSC2244', 'YSC3239', 'YSC3240', 'YSC3249', 'YSC3252', 'YSC4224', 'YSC4225'], 'YSC3239': ['YSC2209', 'YSC3217', 'YSC3240', 'YSC3249', 'YSC3252', 'YSC4224', 'YSC4225'], 'YSC3240': ['YSC3217', 'YSC3239', 'YSC3249', 'YSC3252', 'YSC4224', 'YSC4225'], 'YSC3249': ['YSC3217', 'YSC3239', 'YSC3240', 'YSC3252', 'YSC4224', 'YSC4225'], 'YSC3252': ['YSC3217', 'YSC3239', 'YSC3240', 'YSC3249', 'YSC4224', 'YSC4225'], 'YSC4224': ['YSC3217', 'YSC3239', 'YSC3240', 'YSC3249', 'YSC3252', 'YSC4225'], 'YSC4225': ['YSC3217', 'YSC3239', 'YSC3240', 'YSC3249', 'YSC3252', 'YSC4224'], 'YSC1207': ['YSC1218', 'YSC1219', 'YSC2203', 'YSC2237', 'YSC2246'], 'YSC1218': ['YSC1207', 'YSC1219', 'YSC2203', 'YSC2237', 'YSC2246'], 'YSC1219': ['YSC1207', 'YSC1218', 'YSC2203', 'YSC2237', 'YSC2246', 'YSC3246'], 'YSC2203': ['YSC1207', 'YSC1218', 'YSC1219', 'YSC2237', 'YSC2246'], 'YSC2237': ['YSC1207', 'YSC1218', 'YSC1219', 'YSC2203', 'YSC2246'], 'YSC2246': ['YSC1207', 'YSC1218', 'YSC1219', 'YSC2203', 'YSC2237', 'YSC3224'], 'YSC3224': ['YSC2246', 'YSC3246', 'YSC4209'], 'YSC3246': ['YSC1219', 'YSC3224', 'YSC4209'], 'YSC4209': ['YSC3224', 'YSC3246'], 'YSC2202': ['YSC2235', 'YSC2236', 'YSC2247', 'YSC2250'], 'YSC2235': ['YSC2202', 'YSC2236', 'YSC2247', 'YSC2250'], 'YSC2236': ['YSC2202', 'YSC2235', 'YSC2247', 'YSC2250'], 'YSC3253': ['YSC3214', 'YSC3233', 'YSC3241', 'YSC4211'], 'YSC2247': ['YSC2202', 'YSC2235', 'YSC2236', 'YSC2250'], 'YSC2250': ['YSC2202', 'YSC2235', 'YSC2236', 'YSC2247'], 'YSC3214': ['YSC3253', 'YSC3233', 'YSC3241', 'YSC4211'], 'YSC3233': ['YSC3253', 'YSC3214', 'YSC3241', 'YSC4211'], 'YSC3241': ['YSC3253', 'YSC3214', 'YSC3233', 'YSC4211'], 'YSC4211': ['YSC3253', 'YSC3214', 'YSC3233', 'YSC3241'], 'YHU2203': ['YHU2222', 'YHU2223', 'YHU2291', 'YHU2310'], 'YHU2222': ['YHU2203', 'YHU2223', 'YHU2291', 'YHU2310'], 'YHU2223': ['YHU2203', 'YHU2222', 'YHU2291', 'YHU2310'], 'YHU2291': ['YHU2203', 'YHU2222', 'YHU2223', 'YHU2310', 'YHU3292'], 'YHU2310': ['YHU2203', 'YHU2222', 'YHU2223', 'YHU2291'], 'YHU3292': ['YHU2291', 'YHU3327', 'YHU3331', 'YHU4215', 'YHU4216', 'YHU4252'], 'YHU3327': ['YHU3292', 'YHU3331', 'YHU4215', 'YHU4216', 'YHU4252'], 'YHU3331': ['YHU3292', 'YHU3327', 'YHU4215', 'YHU4216', 'YHU4252'], 'YHU4215': ['YHU3292', 'YHU3327', 'YHU3331', 'YHU4216', 'YHU4252'], 'YHU4216': ['YHU3292', 'YHU3327', 'YHU3331', 'YHU4215', 'YHU4252'], 'YHU4252': ['YHU3292', 'YHU3327', 'YHU3331', 'YHU4215', 'YHU4216'], 'YHU2218': [], 'YHU3322': ['YHU4231', 'YHU4246'], 'YHU4231': ['YHU3322', 'YHU4246'], 'YHU4246': ['YHU3322', 'YHU4231'], 'YHU2212': ['YHU2294', 'YHU2309', 'YHU3211'], 'YHU2294': ['YHU2212', 'YHU2309', 'YHU3210'], 'YHU2309': ['YHU2212', 'YHU2294'], 'YHU3210': ['YHU2294', 'YHU3211', 'YHU3319', 'YHU3321', 'YHU3329', 'YHU4247', 'YHU4249'], 'YHU3211': ['YHU2212', 'YHU3210', 'YHU3319', 'YHU3321', 'YHU3329', 'YHU4247', 'YHU4249'], 'YHU3319': ['YHU3210', 'YHU3211', 'YHU3321', 'YHU3329', 'YHU4247', 'YHU4249'], 'YHU3321': ['YHU3210', 'YHU3211', 'YHU3319', 'YHU3329', 'YHU4247', 'YHU4249'], 'YHU3329': ['YHU3210', 'YHU3211', 'YHU3319', 'YHU3321', 'YHU4247', 'YHU4249', 'YLL1201'], 'YHU4247': ['YHU3210', 'YHU3211', 'YHU3319', 'YHU3321', 'YHU3329', 'YHU4249'], 'YHU4249': ['YHU3210', 'YHU3211', 'YHU3319', 'YHU3321', 'YHU3329', 'YHU4247'], 'YHU2206': ['YHU2260', 'YHU2282', 'YHU2287', 'YHU2303'], 'YHU2260': ['YHU2206', 'YHU2282', 'YHU2287', 'YHU2303', 'YHU3212'], 'YHU2282': ['YHU2206', 'YHU2260', 'YHU2287', 'YHU2303', 'YHU3283'], 'YHU2287': ['YHU2206', 'YHU2260', 'YHU2282', 'YHU2303'], 'YHU2303': ['YHU2206', 'YHU2260', 'YHU2282', 'YHU2287'], 'YHU3212': ['YHU2260', 'YHU3283', 'YHU3320'], 'YHU3283': ['YHU2282', 'YHU3212', 'YHU3320'], 'YHU3320': ['YHU3212', 'YHU3283'], 'YSS2223': ['YSS2227', 'YSS4241'], 'YSS2227': ['YSS2223'], 'YSS3290': ['YSS4229', 'YSS4241'], 'YSS4229': ['YSS2230', 'YSS3290', 'YSS4241'], 'YSS4241': ['YSS2223', 'YSS3290', 'YSS4229'], 'YSS1203': ['YSS1205', 'YSS2203', 'YSS2211', 'YSS2214', 'YSS3264'], 'YSS1205': ['YSS1203', 'YSS2203', 'YSS2211', 'YSS2214'], 'YSS2203': ['YSS1203', 'YSS1205', 'YSS2211', 'YSS2214'], 'YSS2211': ['YSS1203', 'YSS1205', 'YSS2203', 'YSS2214'], 'YSS2214': ['YSS1203', 'YSS1205', 'YSS2203', 'YSS2211'], 'YSS3203': ['YSS3206', 'YSS3208', 'YSS3220', 'YSS3248', 'YSS3264', 'YSS3299'], 'YSS3206': ['YSS3203', 'YSS3208', 'YSS3220', 'YSS3248', 'YSS3264', 'YSS3299'], 'YSS3208': ['YSS3203', 'YSS3206', 'YSS3220', 'YSS3248', 'YSS3264', 'YSS3299'], 'YSS3220': ['YSS3203', 'YSS3206', 'YSS3208', 'YSS3248', 'YSS3264', 'YSS3299'], 'YSS3248': ['YSS3203', 'YSS3206', 'YSS3208', 'YSS3220', 'YSS3264', 'YSS3299'], 'YSS3264': ['YSS1203', 'YSS3203', 'YSS3206', 'YSS3208', 'YSS3220', 'YSS3248', 'YSS3299'], 'YSS3299': ['YSS3203', 'YSS3206', 'YSS3208', 'YSS3220', 'YSS3248', 'YSS3264'], 'YSS2202': ['YSS2237', 'YSS2238'], 'YSS2237': ['YSS2202', 'YSS2238'], 'YSS2238': ['YSS2202', 'YSS2237'], 'YSS3212': ['YSS3221', 'YSS3225', 'YSS3238', 'YSS3255', 'YSS3295', 'YSS4226', 'YSS4237', 'YSS4256', 'YSS4224'], 'YSS3221': ['YSS3212', 'YSS3225', 'YSS3238', 'YSS3255', 'YSS3295', 'YSS4226', 'YSS4237', 'YSS4256'], 'YSS3225': ['YSS3212', 'YSS3221', 'YSS3238', 'YSS3255', 'YSS3295', 'YSS4226', 'YSS4237', 'YSS4256'], 'YSS3238': ['YSS3212', 'YSS3221', 'YSS3225', 'YSS3255', 'YSS3295', 'YSS4226', 'YSS4237', 'YSS4256'], 'YSS3255': ['YSS3212', 'YSS3221', 'YSS3225', 'YSS3238', 'YSS3295', 'YSS4226', 'YSS4237', 'YSS4256'], 'YSS3295': ['YSS3212', 'YSS3221', 'YSS3225', 'YSS3238', 'YSS3255', 'YSS4226', 'YSS4237', 'YSS4256'], 'YSS4226': ['YSS3212', 'YSS3221', 'YSS3225', 'YSS3238', 'YSS3255', 'YSS3295', 'YSS4237', 'YSS4256'], 'YSS4237': ['YSS3212', 'YSS3221', 'YSS3225', 'YSS3238', 'YSS3255', 'YSS3295', 'YSS4226', 'YSS4256'], 'YSS4256': ['YSS3212', 'YSS3221', 'YSS3225', 'YSS3238', 'YSS3255', 'YSS3295', 'YSS4226', 'YSS4237'], 'YSS1206': ['YSS2208', 'YSS2235'], 'YSS2208': ['YSS1206', 'YSS2235', 'YSS3263'], 'YSS2235': ['YSS1206', 'YSS2208', 'YSS4254'], 'YSS3241': ['YSS3263', 'YSS4224', 'YSS4254'], 'YSS3263': ['YSS2208', 'YSS3241', 'YSS4224', 'YSS4254'], 'YSS4224': ['YSS3212', 'YSS3241', 'YSS3263', 'YSS4254'], 'YSS4254': ['YSS2235', 'YSS3241', 'YSS3263', 'YSS4224'], 'YSS2201': ['YSS2216'], 'YSS2216': ['YSS2201', 'YSS3285'], 'YSS3214': ['YSS3219', 'YSS3278', 'YSS3279', 'YSS3285', 'YSS3298', 'YSS3300', 'YSS4230'], 'YSS3219': ['YSS3214', 'YSS3278', 'YSS3279', 'YSS3285', 'YSS3298', 'YSS3300', 'YSS4230'], 'YSS3278': ['YSS3214', 'YSS3219', 'YSS3279', 'YSS3285', 'YSS3298', 'YSS3300', 'YSS4230'], 'YSS3279': ['YSS3214', 'YSS3219', 'YSS3278', 'YSS3285', 'YSS3298', 'YSS3300', 'YSS4230'], 'YSS3285': ['YSS2216', 'YSS3214', 'YSS3219', 'YSS3278', 'YSS3279', 'YSS3298', 'YSS3300', 'YSS4230'], 'YSS3298': ['YSS3214', 'YSS3219', 'YSS3278', 'YSS3279', 'YSS3285', 'YSS3300', 'YSS4230'], 'YSS3300': ['YSS3214', 'YSS3219', 'YSS3278', 'YSS3279', 'YSS3285', 'YSS3298', 'YSS4230'], 'YSS4230': ['YSS3214', 'YSS3219', 'YSS3278', 'YSS3279', 'YSS3285', 'YSS3298', 'YSS3300'], 'YSS2220': ['YSS4234'], 'YSS3218': ['YSS3222', 'YSS3235', 'YSS3274', 'YSS4234'], 'YSS3222': ['YSS3218', 'YSS3235', 'YSS3274', 'YSS4234'], 'YSS3235': ['YSS3218', 'YSS3222', 'YSS3274', 'YSS4234'], 'YSS3274': ['YSS3218', 'YSS3222', 'YSS3235', 'YSS4234'], 'YSS4234': ['YSS2220', 'YSS3218', 'YSS3222', 'YSS3235', 'YSS3274'], 'YSS3231': [], 'YID1201': ['YSC2249'], 'YID3202G': ['YID3202H', 'YID3216'], 'YID3202H': ['YID3202G', 'YID3216'], 'YID3216': ['YID3202G', 'YID3202H'], 'YSC2249': ['YID1201'], 'YLC1201-1': ['YLC1201-2', 'YLC2201'], 'YLC1201-2': ['YLC1201-1', 'YLC2201', 'YLC3203'], 'YLC2201': ['YLC1201-1', 'YLC1201-2'], 'YLC3203': ['YLC1201-2'], 'YLL1201': ['YHU3329'], 'YIL2201S': [], 'YLS1201': ['YLS1202', 'YLS2201', 'YLS2202'], 'YLS1202': ['YLS1201', 'YLS2201', 'YLS2202'], 'YLS2201': ['YLS1201', 'YLS1202', 'YLS2202'], 'YLS2202': ['YLS1201', 'YLS1202', 'YLS2201']}\n"
>>>>>>> 6626b4fc56da2f8e825a9d9b1dd63cd12ec74bf8
     ]
    }
   ],
   "source": [
    "dic = {}\n",
    "\n",
<<<<<<< HEAD
    "for i in range(0, 15):\n",
    "    # Add modules of the same level as values\n",
    "    if (data[\"Level\"][i] == 1000) or (data[\"Level\"][i] == 2000): \n",
    "        dic[data[\"Module Code\"][i]] = \\\n",
    "        data[((data[\"Level\"] == 1000) | (data[\"Level\"] == 2000) | (data[\"Instructor\"] == data[\"Instructor\"][i])) \\\n",
    "             & (data[\"Module Code\"] != data[\"Module Code\"][i])][\"Module Code\"].tolist()\n",
    "    elif (data[\"Level\"][i] == 3000) or (data[\"Level\"][i] == 4000): \n",
    "        dic[data[\"Module Code\"][i]] = \\\n",
    "        data[((data[\"Level\"] == 3000) | (data[\"Level\"] == 4000)) | (data[\"Instructor\"] == data[\"Instructor\"][i])\n",
    "             & (data[\"Module Code\"] != data[\"Module Code\"][i])][\"Module Code\"].tolist()\n",
    "        \n",
=======
    "for i in range(0, len(df.index)):\n",
    "    # Add modules of the same level as values\n",
    "    if (data[\"Level\"][i] == 1000): \n",
    "        dic[data[\"Module Code\"][i]] = \\\n",
    "        data[(((data[\"Level\"] == 1000) \\\n",
    "               & (data[\"Major\"][i] == data[\"Major\"])) \\\n",
    "              | ((data[\"Level\"] == 2000) \\\n",
    "                 & (data[\"Major\"][i] == data[\"Major\"])) \\\n",
    "              | (data[\"Instructor\"] == data[\"Instructor\"][i])) \\\n",
    "             & (data[\"Module Code\"] != data[\"Module Code\"][i])][\"Module Code\"].tolist()\n",
    "        \n",
    "    elif (data[\"Level\"][i] == 2000) :\n",
    "        dic[data[\"Module Code\"][i]] = \\\n",
    "        data[(((data[\"Level\"] == 1000) \\\n",
    "               & (data[\"Major\"][i] == data[\"Major\"])) \\\n",
    "              | ((data[\"Level\"] == 2000) \\\n",
    "                 & (data[\"Major\"][i] == data[\"Major\"])) \\\n",
    "              | (data[\"Instructor\"] == data[\"Instructor\"][i])) \\\n",
    "             & (data[\"Module Code\"] != data[\"Module Code\"][i])][\"Module Code\"].tolist()\n",
    "    elif (data[\"Level\"][i] == 3000) or (data[\"Level\"][i] == 4000): \n",
    "        dic[data[\"Module Code\"][i]] = \\\n",
    "        data[(((data[\"Level\"] == 3000) & (data[\"Major\"][i] == data[\"Major\"])) \\\n",
    "              | ((data[\"Level\"] == 4000) & (data[\"Major\"][i] == data[\"Major\"])) \\\n",
    "             | (data[\"Instructor\"] == data[\"Instructor\"][i]))\n",
    "             & (data[\"Module Code\"] != data[\"Module Code\"][i])][\"Module Code\"].tolist()\n",
    "    ## Condition for major clash \n",
    "    \n",
>>>>>>> 6626b4fc56da2f8e825a9d9b1dd63cd12ec74bf8
    "print(dic)"
   ]
  },
  {
   "cell_type": "code",
<<<<<<< HEAD
   "execution_count": 4,
=======
<<<<<<< HEAD
   "execution_count": 94,
=======
   "execution_count": 4,
>>>>>>> 880e94334f0fe6e8811aa5eb6040f82a1bc27a4c
>>>>>>> 6626b4fc56da2f8e825a9d9b1dd63cd12ec74bf8
   "metadata": {},
   "outputs": [
    {
     "data": {
      "text/plain": [
       "['YSC1212-1',\n",
       " 'YSC1216',\n",
       " 'YSC2209',\n",
       " 'YSC2213',\n",
       " 'YSC2221',\n",
       " 'YSC2229',\n",
       " 'YSC2232',\n",
       " 'YSC2239-1',\n",
       " 'YSC2244',\n",
       " 'YSC3217',\n",
       " 'YSC3239',\n",
       " 'YSC3240',\n",
       " 'YSC3249',\n",
       " 'YSC3252',\n",
<<<<<<< HEAD
       " 'YSC4224']"
      ]
     },
     "execution_count": 4,
=======
       " 'YSC4224',\n",
       " 'YSC4225',\n",
       " 'YSC1207',\n",
       " 'YSC1218',\n",
       " 'YSC1219',\n",
       " 'YSC2203',\n",
       " 'YSC2237',\n",
       " 'YSC2246',\n",
       " 'YSC3224',\n",
       " 'YSC3246',\n",
       " 'YSC4209',\n",
       " 'YSC2202',\n",
       " 'YSC2235',\n",
       " 'YSC2236',\n",
       " 'YSC3253',\n",
       " 'YSC2247',\n",
       " 'YSC2250',\n",
       " 'YSC3214',\n",
       " 'YSC3233',\n",
       " 'YSC3241',\n",
       " 'YSC4211',\n",
       " 'YHU2203',\n",
       " 'YHU2222',\n",
       " 'YHU2223',\n",
       " 'YHU2291',\n",
       " 'YHU2310',\n",
       " 'YHU3292',\n",
       " 'YHU3327',\n",
       " 'YHU3331',\n",
       " 'YHU4215',\n",
       " 'YHU4216',\n",
       " 'YHU4252',\n",
       " 'YHU2218',\n",
       " 'YHU3322',\n",
       " 'YHU4231',\n",
       " 'YHU4246',\n",
       " 'YHU2212',\n",
       " 'YHU2294',\n",
       " 'YHU2309',\n",
       " 'YHU3210',\n",
       " 'YHU3211',\n",
       " 'YHU3319',\n",
       " 'YHU3321',\n",
       " 'YHU3329',\n",
       " 'YHU4247',\n",
       " 'YHU4249',\n",
       " 'YHU2206',\n",
       " 'YHU2260',\n",
       " 'YHU2282',\n",
       " 'YHU2287',\n",
       " 'YHU2303',\n",
       " 'YHU3212',\n",
       " 'YHU3283',\n",
       " 'YHU3320',\n",
       " 'YSS2223',\n",
       " 'YSS2227',\n",
       " 'YSS3290',\n",
       " 'YSS4229',\n",
       " 'YSS4241',\n",
       " 'YSS1203',\n",
       " 'YSS1205',\n",
       " 'YSS2203',\n",
       " 'YSS2211',\n",
       " 'YSS2214',\n",
       " 'YSS3203',\n",
       " 'YSS3206',\n",
       " 'YSS3208',\n",
       " 'YSS3220',\n",
       " 'YSS3248',\n",
       " 'YSS3264',\n",
       " 'YSS3299',\n",
       " 'YSS2202',\n",
       " 'YSS2237',\n",
       " 'YSS2238',\n",
       " 'YSS3212',\n",
       " 'YSS3221',\n",
       " 'YSS3225',\n",
       " 'YSS3238',\n",
       " 'YSS3255',\n",
       " 'YSS3295',\n",
       " 'YSS4226',\n",
       " 'YSS4237',\n",
       " 'YSS4256',\n",
       " 'YSS1206',\n",
       " 'YSS2208',\n",
       " 'YSS2235',\n",
       " 'YSS3241',\n",
       " 'YSS3263',\n",
       " 'YSS4224',\n",
       " 'YSS4254',\n",
       " 'YSS2201',\n",
       " 'YSS2216',\n",
       " 'YSS3214',\n",
       " 'YSS3219',\n",
       " 'YSS3278',\n",
       " 'YSS3279',\n",
       " 'YSS3285',\n",
       " 'YSS3298',\n",
       " 'YSS3300',\n",
       " 'YSS4230',\n",
       " 'YSS2220',\n",
       " 'YSS3218',\n",
       " 'YSS3222',\n",
       " 'YSS3235',\n",
       " 'YSS3274',\n",
       " 'YSS4234',\n",
       " 'YSS3231',\n",
       " 'YID1201',\n",
       " 'YID3202G',\n",
       " 'YID3202H',\n",
       " 'YID3216',\n",
       " 'YSC2249',\n",
       " 'YLC1201-1',\n",
       " 'YLC1201-2',\n",
       " 'YLC2201',\n",
       " 'YLC3203',\n",
       " 'YLL1201',\n",
       " 'YIL2201S',\n",
       " 'YLS1201',\n",
       " 'YLS1202',\n",
       " 'YLS2201',\n",
       " 'YLS2202']"
      ]
     },
<<<<<<< HEAD
     "execution_count": 94,
=======
     "execution_count": 4,
>>>>>>> 880e94334f0fe6e8811aa5eb6040f82a1bc27a4c
>>>>>>> 6626b4fc56da2f8e825a9d9b1dd63cd12ec74bf8
     "metadata": {},
     "output_type": "execute_result"
    }
   ],
   "source": [
    "list(dic.keys())"
   ]
  },
  {
   "cell_type": "code",
<<<<<<< HEAD
   "execution_count": 5,
   "metadata": {},
   "outputs": [
    {
     "ename": "SyntaxError",
     "evalue": "invalid syntax (<ipython-input-5-c81834643787>, line 1)",
     "output_type": "error",
     "traceback": [
      "\u001b[0;36m  File \u001b[0;32m\"<ipython-input-5-c81834643787>\"\u001b[0;36m, line \u001b[0;32m1\u001b[0m\n\u001b[0;31m    if data[\"Level\"][i] = 1000:\u001b[0m\n\u001b[0m                        ^\u001b[0m\n\u001b[0;31mSyntaxError\u001b[0m\u001b[0;31m:\u001b[0m invalid syntax\n"
     ]
    }
   ],
   "source": [
    "if data[\"Level\"][i] = 1000:\n",
    "    for i in range(0, 15):\n",
    "        if "
=======
<<<<<<< HEAD
   "execution_count": 95,
=======
   "execution_count": 5,
>>>>>>> 880e94334f0fe6e8811aa5eb6040f82a1bc27a4c
   "metadata": {},
   "outputs": [],
   "source": [
    "# if data[\"Level\"][i] = 1000:\n",
    "#     for i in range(0, 15):\n",
    "#         if "
>>>>>>> 6626b4fc56da2f8e825a9d9b1dd63cd12ec74bf8
   ]
  },
  {
   "cell_type": "code",
<<<<<<< HEAD
   "execution_count": 6,
   "metadata": {},
   "outputs": [],
   "source": [
    "def make_matrix(data):\n",
    "    for i in (0, len(data)-1):\n",
    "        \n",
    "        data[\"Instructor\"]"
=======
<<<<<<< HEAD
   "execution_count": 96,
=======
   "execution_count": 6,
>>>>>>> 880e94334f0fe6e8811aa5eb6040f82a1bc27a4c
   "metadata": {},
   "outputs": [],
   "source": [
    "# def make_matrix(data):\n",
    "#     for i in (0, len(data)-1):\n",
    "#         data[\"Instructor\"]"
>>>>>>> 6626b4fc56da2f8e825a9d9b1dd63cd12ec74bf8
   ]
  },
  {
   "cell_type": "code",
<<<<<<< HEAD
   "execution_count": 7,
   "metadata": {},
=======
<<<<<<< HEAD
   "execution_count": 112,
=======
   "execution_count": 7,
>>>>>>> 880e94334f0fe6e8811aa5eb6040f82a1bc27a4c
   "metadata": {
    "scrolled": true
   },
>>>>>>> 6626b4fc56da2f8e825a9d9b1dd63cd12ec74bf8
   "outputs": [
    {
     "name": "stdout",
     "output_type": "stream",
     "text": [
<<<<<<< HEAD
      "{'YSC4224': 0, 'YSC3252': 1, 'YSC3249': 2, 'YSC3240': 3, 'YSC3239': 4, 'YSC3217': 5, 'YSC2244': 0, 'YSC2239-1': 1, 'YSC2232': 2, 'YSC2229': 3, 'YSC2221': 4, 'YSC2213': 5, 'YSC2209': 6, 'YSC1216': 7, 'YSC1212-1': 8}\n"
=======
      "29\n",
      "29\n",
      "25\n",
      "17\n",
      "14\n",
      "8\n",
      "7\n",
      "4\n",
      "2\n",
      "1\n"
>>>>>>> 6626b4fc56da2f8e825a9d9b1dd63cd12ec74bf8
     ]
    }
   ],
   "source": [
    "def first_available(color_list):\n",
    "    \"\"\"Return smallest non-negative integer not in the given list of colors.\"\"\"\n",
    "    color_set = set(color_list)\n",
    "    count = 0\n",
    "    while True:\n",
<<<<<<< HEAD
    "        if count not in color_set:\n",
=======
    "        if count not in color_set :\n",
>>>>>>> 6626b4fc56da2f8e825a9d9b1dd63cd12ec74bf8
    "            return count\n",
    "        count += 1\n",
    "        \n",
    "def greedy_color(G, order):\n",
    "    \"\"\"Find the greedy coloring of G in the given order.\n",
    "    The representation of G is assumed to be like https://www.python.org/doc/essays/graphs/\n",
    "    in allowing neighbors of a node/vertex to be iterated over by \"for w in G[node]\".\n",
    "    The return value is a dictionary mapping vertices to their colors.\"\"\"\n",
    "    color = dict()\n",
<<<<<<< HEAD
=======
    "    color_count = {}\n",
>>>>>>> 6626b4fc56da2f8e825a9d9b1dd63cd12ec74bf8
    "    for node in order:\n",
    "        used_neighbour_colors = [color[nbr] for nbr in G[node]\n",
    "                                 if nbr in color]\n",
    "        color[node] = first_available(used_neighbour_colors)\n",
<<<<<<< HEAD
=======
    "        \n",
    "        used_color = color[node]\n",
    "        \n",
    "        if used_color in color_count:\n",
    "            color_count[used_color] = color_count.get(used_color) + 1\n",
    "        else :\n",
    "            color_count.setdefault(color[node],0)\n",
    "        \n",
    "        if (color_count.get(used_color) > 28) : \n",
    "            used_neighbour_colors.append(used_color)\n",
    "            color[node] = first_available(used_neighbour_colors)\n",
    "            \n",
>>>>>>> 6626b4fc56da2f8e825a9d9b1dd63cd12ec74bf8
    "    return color\n",
    "\n",
    "\n",
    "def order(dic): \n",
    "    for i in list(dic.keys()):\n",
    "        print(len(dic[i]))\n",
    "\n",
    "diclist = list(dic.keys())\n",
    "diclist.reverse()\n",
    "\n",
<<<<<<< HEAD
    "        \n",
    "print(greedy_color(dic, diclist))"
=======
    "coloring = greedy_color(dic, diclist)\n",
    "\n",
    "# use colors as key instead \n",
    "colors_to_mod = {} \n",
    "for key in coloring:\n",
    "    colors_to_mod.setdefault(coloring[key],[]).append(key)\n",
    "\n",
    "for i in range(0, len(colors_to_mod)):\n",
    "    print(len(colors_to_mod[i]))\n",
    "    "
>>>>>>> 6626b4fc56da2f8e825a9d9b1dd63cd12ec74bf8
   ]
  },
  {
   "cell_type": "code",
<<<<<<< HEAD
   "execution_count": 8,
=======
<<<<<<< HEAD
   "execution_count": 113,
=======
   "execution_count": 16,
>>>>>>> 880e94334f0fe6e8811aa5eb6040f82a1bc27a4c
>>>>>>> 6626b4fc56da2f8e825a9d9b1dd63cd12ec74bf8
   "metadata": {},
   "outputs": [
    {
     "name": "stdout",
     "output_type": "stream",
     "text": [
<<<<<<< HEAD
      "({'YSC1212-1': 0, 'YSC1216': 1, 'YSC2209': 2, 'YSC2213': 3, 'YSC2221': 4, 'YSC2229': 5, 'YSC2232': 6, 'YSC2239-1': 7, 'YSC2244': 8, 'YSC3217': 0, 'YSC3239': 1, 'YSC3240': 2, 'YSC3249': 3, 'YSC3252': 4, 'YSC4224': 5}, 8)\n"
=======
<<<<<<< HEAD
      "({'YSC1212-1': 0, 'YSC1216': 1, 'YSC2209': 2, 'YSC2213': 3, 'YSC2221': 4, 'YSC2229': 5, 'YSC2232': 6, 'YSC2239-1': 7, 'YSC2244': 8, 'YSC3217': 0, 'YSC3239': 1, 'YSC3240': 2, 'YSC3249': 3, 'YSC3252': 4, 'YSC4224': 5, 'YSC4225': 6, 'YSC1207': 0, 'YSC1218': 1, 'YSC1219': 2, 'YSC2203': 3, 'YSC2237': 4, 'YSC2246': 5, 'YSC3224': 0, 'YSC3246': 1, 'YSC4209': 2, 'YSC2202': 0, 'YSC2235': 1, 'YSC2236': 2, 'YSC3253': 0, 'YSC2247': 3, 'YSC2250': 4, 'YSC3214': 1, 'YSC3233': 2, 'YSC3241': 3, 'YSC4211': 4, 'YHU2203': 0, 'YHU2222': 1, 'YHU2223': 2, 'YHU2291': 3, 'YHU2310': 4, 'YHU3292': 0, 'YHU3327': 1, 'YHU3331': 2, 'YHU4215': 3, 'YHU4216': 4, 'YHU4252': 5, 'YHU2218': 0, 'YHU3322': 0, 'YHU4231': 1, 'YHU4246': 2, 'YHU2212': 0, 'YHU2294': 1, 'YHU2309': 2, 'YHU3210': 0, 'YHU3211': 1, 'YHU3319': 2, 'YHU3321': 3, 'YHU3329': 4, 'YHU4247': 5, 'YHU4249': 6, 'YHU2206': 0, 'YHU2260': 1, 'YHU2282': 2, 'YHU2287': 3, 'YHU2303': 4, 'YHU3212': 0, 'YHU3283': 1, 'YHU3320': 2, 'YSS2223': 0, 'YSS2227': 1, 'YSS3290': 0, 'YSS4229': 1, 'YSS4241': 2, 'YSS1203': 0, 'YSS1205': 1, 'YSS2203': 2, 'YSS2211': 3, 'YSS2214': 4, 'YSS3203': 0, 'YSS3206': 1, 'YSS3208': 2, 'YSS3220': 3, 'YSS3248': 4, 'YSS3264': 5, 'YSS3299': 6, 'YSS2202': 0, 'YSS2237': 1, 'YSS2238': 2, 'YSS3212': 0, 'YSS3221': 1, 'YSS3225': 2, 'YSS3238': 3, 'YSS3255': 4, 'YSS3295': 5, 'YSS4226': 6, 'YSS4237': 7, 'YSS4256': 8, 'YSS1206': 0, 'YSS2208': 1, 'YSS2235': 2, 'YSS3241': 0, 'YSS3263': 2, 'YSS4224': 1, 'YSS4254': 3, 'YSS2201': 0, 'YSS2216': 1, 'YSS3214': 0, 'YSS3219': 1, 'YSS3278': 2, 'YSS3279': 3, 'YSS3285': 4, 'YSS3298': 5, 'YSS3300': 6, 'YSS4230': 7, 'YSS2220': 0, 'YSS3218': 0, 'YSS3222': 1, 'YSS3235': 2, 'YSS3274': 3, 'YSS4234': 4, 'YSS3231': 0, 'YID1201': 0, 'YID3202G': 0, 'YID3202H': 1, 'YID3216': 2, 'YSC2249': 1, 'YLC1201-1': 1, 'YLC1201-2': 2, 'YLC2201': 3, 'YLC3203': 1, 'YLL1201': 1, 'YIL2201S': 1, 'YLS1201': 1, 'YLS1202': 2, 'YLS2201': 3, 'YLS2202': 4}, 8)\n"
=======
      "([9, 9, 9, 9, 9, 9, 9, 9, 9, 9, 9, 9, 9, 9, 9, 9, 9, 9, 9, 9, 9, 9, 9, 9, 9, 9, 9, 9, 9, 9, 9, 9, 9, 9, 9, 9, 9, 9, 9, 9, 9, 9, 9, 9, 9, 9, 9, 9, 9, 9, 9, 9, 9, 9, 9, 9, 9, 9, 9, 9, 9, 9, 9, 9, 9, 9, 9, 9, 9, 9, 9, 9, 9, 9, 9, 9, 9, 9, 9, 9, 9, 9, 9, 9, 9, 9, 9, 9, 9, 10, 9, 9, 9, 9, 9, 9, 9, 9, 9, 9, 9, 9, 9, 9, 9, 9, 9, 9, 9, 9, 9, 9, 9, 9, 9, 9, 9, 10, 9, 9, 9, 9, 9, 9, 9, 9, 9, 9, 9, 9, 9, 9, 9, 9, 9, 9, 9, 9, 9, 9, 9, 9, 9, 9, 9, 9, 9, 9, 9, 9, 9, 9, 9, 9, 9, 9, 9, 9, 9, 9, 9, 9, 9, 9, 9, 9, 9, 9, 9, 9, 9, 9, 9, 9, 9, 9, 9, 9, 9, 9, 9, 9, 9, 9, 9, 9, 9, 9, 9, 9, 9, 9, 9, 9, 9, 9, 9, 9, 9, 9, 9, 9, 9, 9, 9, 9, 9, 9, 9, 9, 9, 9, 9, 9, 9, 9, 9, 9, 9, 9, 9, 9, 9, 9, 9, 9, 9, 9, 9, 9, 9, 9, 9, 9, 9, 9, 9, 9, 9, 9, 9, 9, 9, 9, 9, 9, 9, 9, 9, 9, 9, 9, 9, 9, 9, 9, 9, 9, 9, 9, 9, 9, 9, 9, 9, 9, 9, 9, 9, 9, 9, 9, 9, 9, 9, 9, 9, 9, 9, 9, 9, 9, 9, 9, 9, 9, 9, 9, 9, 9, 9, 9, 9, 9, 9, 9, 9, 9, 9, 9, 9, 9, 9, 9, 9, 9, 9, 9, 9, 9, 9, 9, 9, 9, 9, 9, 9, 9, 9, 9, 9, 9, 9, 9, 9, 9, 9, 9, 9, 9, 9, 9, 9, 9, 9, 9, 9, 9, 9, 9, 9, 9, 9, 9, 9, 9, 9, 9, 9, 9, 9, 9, 9, 9, 9, 9, 9, 9, 9, 9, 9, 9, 9, 9, 9, 9, 9, 9, 9, 9, 9, 9, 9, 9, 9, 9, 9, 9, 9, 9, 9, 9, 9, 9, 9, 9, 9, 9, 9, 9, 9, 9, 9, 9, 9, 9, 9, 9, 9, 9, 9, 9, 9, 9, 9, 9, 9, 9, 9, 9, 9, 9, 9, 9, 9, 9, 9, 9, 9, 9, 9, 9, 9, 9, 9, 9, 9, 9, 9, 9, 9, 9, 9, 9, 9, 9, 9, 9, 9, 9, 9, 9, 9, 9, 9, 9, 9, 10, 9, 9, 9, 9, 9, 9, 9, 9, 9, 9, 9, 9, 9, 9, 9, 9, 9, 9, 9, 9, 9, 9, 9, 9, 9, 9, 9, 9, 9, 9, 9, 9, 9, 9, 9, 9, 9, 9, 9, 9, 9, 9, 9, 9, 9, 9, 9, 9, 9, 9, 9, 9, 9, 9, 9, 9, 9, 9, 9, 9, 9, 9, 9, 9, 9, 9, 9, 9, 9, 9, 9, 9, 9, 9, 9, 9, 9, 9, 9, 9, 9, 9, 9, 9, 9, 9, 9, 9, 9, 9, 9, 9, 9, 9, 9, 9, 9, 9, 9, 9, 9, 9, 9, 9, 9, 9, 9, 9, 9, 9, 9, 9, 9, 9, 9, 9, 9, 9, 9, 9, 9, 9, 9, 9, 9, 9, 9, 9, 9, 9, 9, 9, 9, 9, 9, 9, 9, 9, 9, 9, 9, 9, 9, 9, 9, 9, 9, 9, 9, 9, 9, 9, 9, 9, 9, 9, 9, 9, 9, 9, 9, 9, 9, 9, 9, 9, 9, 9, 9, 9, 9, 9, 9, 9, 9, 9, 9, 9, 9, 9, 9, 9, 9, 9, 9, 9, 9, 9, 9, 9, 9, 9, 9, 9, 9, 9, 9, 9, 9, 9, 9, 9, 9, 9, 9, 9, 9, 9, 9, 9, 9, 9, 9, 9, 9, 9, 9, 9, 9, 9, 9, 9, 9, 9, 9, 9, 9, 9, 9, 9, 9, 9, 10, 9, 9, 9, 9, 9, 9, 9, 9, 9, 9, 9, 9, 9, 9, 9, 9, 9, 9, 9, 9, 9, 9, 9, 9, 9, 9, 9, 9, 9, 9, 9, 9, 9, 9, 9, 9, 9, 9, 9, 9, 9, 9, 9, 9, 9, 9, 9, 9, 9, 9, 9, 9, 9, 9, 9, 9, 9, 9, 9, 9, 9, 9, 9, 9, 9, 9, 9, 9, 9, 9, 9, 9, 9, 9, 9, 9, 9, 9, 9, 9, 9, 9, 9, 9, 9, 9, 9, 9, 9, 9, 9, 9, 9, 9, 9, 9, 9, 9, 9, 9, 9, 9, 9, 9, 9, 9, 9, 9, 9, 9, 9, 9, 10, 9, 9, 9, 9, 9, 9, 9, 9, 9, 9, 9, 9, 9, 9, 9, 9, 9, 9, 9, 9, 9, 9, 9, 9, 9, 9, 9, 9, 9, 9, 9, 9, 9, 9, 9, 9, 9, 9, 9, 9, 9, 9, 9, 9, 9, 9, 9, 9, 9, 9, 9, 9, 9, 9, 9, 9, 9, 9, 9, 9, 9, 9, 9, 9, 9, 9, 9, 9, 9, 9, 10, 9, 9, 9, 9, 9, 9, 9, 9, 9, 9, 9, 9, 9, 9, 9, 9, 9, 9, 9, 9, 9, 9, 9, 9, 9, 9, 9, 9, 9, 9, 9, 9, 9, 9, 9, 9, 9, 9, 9, 9, 9, 9, 9, 9, 9, 9, 9, 9, 9, 9, 9, 9, 9, 9, 9, 9, 9, 9, 9, 9, 9, 9, 9, 9, 9, 9, 9, 9, 9, 9, 9, 9, 9, 9, 9, 9, 9, 9, 9, 9, 9, 9, 9, 9, 9, 9, 9, 9, 9, 9, 9, 9, 9, 9, 9, 9, 9, 9, 9, 9, 9, 9, 9, 9, 9, 9, 9, 9, 9, 9, 9, 9, 9, 9, 9, 9, 9, 9, 9, 9, 9, 9, 9, 9, 9, 9, 9, 9, 9, 9, 9, 9, 9, 9, 9], 9, 10)\n"
>>>>>>> 880e94334f0fe6e8811aa5eb6040f82a1bc27a4c
>>>>>>> 6626b4fc56da2f8e825a9d9b1dd63cd12ec74bf8
     ]
    }
   ],
   "source": [
    "import random\n",
<<<<<<< HEAD
=======
<<<<<<< HEAD
=======
    "\n",
>>>>>>> 880e94334f0fe6e8811aa5eb6040f82a1bc27a4c
>>>>>>> 6626b4fc56da2f8e825a9d9b1dd63cd12ec74bf8
    "\"\"\"\n",
    "RANDOM:\n",
    "Iterate the following process I times:\n",
    "  Randomly permute the vertices;\n",
    "  Apply GREEDY;\n",
    "  If the current coloring is the best one found, save it.\n",
    "Then report the best coloring found.\n",
    "\"\"\"\n",
    "\n",
<<<<<<< HEAD
=======
<<<<<<< HEAD
>>>>>>> 6626b4fc56da2f8e825a9d9b1dd63cd12ec74bf8
    "def random_color(G, I):\n",
    "    bestCount = 200000000\n",
    "    bestColoring = {}\n",
    "    for i in range(1,I):\n",
    "        random.shuffle(list(G.keys()))\n",
    "        bestColoring = greedy_color(G,G.keys())\n",
    "        count = max(list(bestColoring.values()))\n",
    "        if count < bestCount:\n",
    "            bestCount = count\n",
    "            bestColoring = G\n",
    "    return bestColoring, bestCount\n",
    "\n",
<<<<<<< HEAD
    "print(random_color(dic, 30))"
=======
    "random_coloring = random_color(dic, 1000)\n",
    "\n",
    "print(random_color(dic, 1000))\n"
=======
    "def random_color(G,I):\n",
    "    bestCount = 200000000\n",
    "    worstCount = (-1)\n",
    "    bestColoring = {}\n",
    "    worstColoring = {}\n",
    "    counts = []\n",
    "\n",
    "    '''\n",
    "    list_of_tuples = list(permutations(G.keys()))\n",
    "    perm = [list(elem) for elem in list_of_tuples]\n",
    "    \n",
    "    for i in range(100):\n",
    "        perm_pruned.append(perm[i])'''\n",
    "   \n",
    "    for i in range(I):\n",
    "        ''' print(itertools.permutations(G.keys()))'''\n",
    "        ''' random.shuffle(list(G.keys()))'''\n",
    "        \n",
    "        random_order = np.random.permutation(list(G.keys()))\n",
    "        bestColoring = greedy_color(G,random_order)\n",
    "        count = max(list(bestColoring.values())) + 1 \n",
    "        counts.append(count)\n",
    "        \n",
    "        if count < bestCount:\n",
    "            bestCount = count\n",
    "            bestColoring = G\n",
    "        if count > worstCount:\n",
    "            worstCount = count\n",
    "            worstColoring = G\n",
    "    return counts, bestCount, worstCount\n",
    "\n",
    "'''\n",
    "dic_v2 = {'v1':['v4'], 'v4':['v1','v2','v3'],'v2':['v4','v6'],'v6':['v2','v3'], 'v3':['v4','v6'],'v5':['v2']}   \n",
    "print(random_color(dic_v2, 1000))\n",
    "\n",
    "'''\n",
    "\n",
    "\n",
    "print(random_color(dic, 1000))"
>>>>>>> 880e94334f0fe6e8811aa5eb6040f82a1bc27a4c
   ]
  },
  {
   "cell_type": "code",
<<<<<<< HEAD
   "execution_count": 115,
=======
   "execution_count": 17,
>>>>>>> 880e94334f0fe6e8811aa5eb6040f82a1bc27a4c
   "metadata": {},
   "outputs": [
    {
     "data": {
      "text/plain": [
       "{0: ['YLS2202',\n",
       "  'YIL2201S',\n",
       "  'YLL1201',\n",
       "  'YLC3203',\n",
       "  'YLC2201',\n",
       "  'YSC2249',\n",
       "  'YID3216',\n",
       "  'YSS3231',\n",
       "  'YSS4234',\n",
       "  'YSS4230',\n",
       "  'YSS2216',\n",
       "  'YSS4254',\n",
       "  'YSS2208',\n",
       "  'YSS4256',\n",
       "  'YSS2238',\n",
       "  'YSS3299',\n",
       "  'YSS2214',\n",
       "  'YSS4241',\n",
       "  'YSS2227',\n",
       "  'YHU3320',\n",
       "  'YHU2303',\n",
       "  'YHU4249',\n",
       "  'YHU2309',\n",
       "  'YHU4246',\n",
       "  'YHU2218',\n",
       "  'YHU4252',\n",
       "  'YHU2310',\n",
       "  'YSC4211',\n",
       "  'YSC2250'],\n",
       " 1: ['YLS2201',\n",
       "  'YLC1201-2',\n",
       "  'YID3202H',\n",
       "  'YID1201',\n",
       "  'YSS3274',\n",
       "  'YSS2220',\n",
       "  'YSS3300',\n",
       "  'YSS2201',\n",
       "  'YSS4224',\n",
       "  'YSS2235',\n",
       "  'YSS4237',\n",
       "  'YSS2237',\n",
       "  'YSS3264',\n",
       "  'YSS2211',\n",
       "  'YSS4229',\n",
       "  'YSS2223',\n",
       "  'YHU3283',\n",
       "  'YHU2287',\n",
       "  'YHU4247',\n",
       "  'YHU2294',\n",
       "  'YHU4231',\n",
       "  'YHU4216',\n",
       "  'YHU2291',\n",
       "  'YSC3241',\n",
       "  'YSC2247',\n",
       "  'YSC4209',\n",
       "  'YSC2246',\n",
       "  'YSC4225',\n",
       "  'YSC2244'],\n",
       " 2: ['YLS1202',\n",
       "  'YLC1201-1',\n",
       "  'YID3202G',\n",
       "  'YSS3235',\n",
       "  'YSS3298',\n",
       "  'YSS3263',\n",
       "  'YSS1206',\n",
       "  'YSS4226',\n",
       "  'YSS2202',\n",
       "  'YSS3248',\n",
       "  'YSS2203',\n",
       "  'YSS3290',\n",
       "  'YHU3212',\n",
       "  'YHU2282',\n",
       "  'YHU3329',\n",
       "  'YHU2212',\n",
       "  'YHU3322',\n",
       "  'YHU4215',\n",
       "  'YHU2223',\n",
       "  'YSC3233',\n",
       "  'YSC2236',\n",
       "  'YSC3246',\n",
       "  'YSC2237',\n",
       "  'YSC4224',\n",
       "  'YSC2239-1'],\n",
       " 3: ['YLS1201',\n",
       "  'YSS3222',\n",
       "  'YSS3285',\n",
       "  'YSS3241',\n",
       "  'YSS3295',\n",
       "  'YSS3220',\n",
       "  'YSS1205',\n",
       "  'YHU2260',\n",
       "  'YHU3321',\n",
       "  'YHU3331',\n",
       "  'YHU2222',\n",
       "  'YSC3214',\n",
       "  'YSC2235',\n",
       "  'YSC3224',\n",
       "  'YSC2203',\n",
       "  'YSC3252',\n",
       "  'YSC2232'],\n",
       " 4: ['YSS3218',\n",
       "  'YSS3279',\n",
       "  'YSS3255',\n",
       "  'YSS3208',\n",
       "  'YSS1203',\n",
       "  'YHU2206',\n",
       "  'YHU3319',\n",
       "  'YHU3327',\n",
       "  'YHU2203',\n",
       "  'YSC3253',\n",
       "  'YSC2202',\n",
       "  'YSC1219',\n",
       "  'YSC3249',\n",
       "  'YSC2229'],\n",
       " 5: ['YSS3278',\n",
       "  'YSS3238',\n",
       "  'YSS3206',\n",
       "  'YHU3211',\n",
       "  'YHU3292',\n",
       "  'YSC1218',\n",
       "  'YSC3240',\n",
       "  'YSC2221'],\n",
       " 6: ['YSS3219',\n",
       "  'YSS3225',\n",
       "  'YSS3203',\n",
       "  'YHU3210',\n",
       "  'YSC1207',\n",
       "  'YSC3239',\n",
       "  'YSC2213'],\n",
       " 7: ['YSS3214', 'YSS3221', 'YSC3217', 'YSC2209'],\n",
       " 8: ['YSS3212', 'YSC1216'],\n",
       " 9: ['YSC1212-1']}"
      ]
     },
<<<<<<< HEAD
     "execution_count": 115,
=======
     "execution_count": 17,
>>>>>>> 880e94334f0fe6e8811aa5eb6040f82a1bc27a4c
     "metadata": {},
     "output_type": "execute_result"
    }
   ],
   "source": [
    "colors_to_mod"
>>>>>>> 6626b4fc56da2f8e825a9d9b1dd63cd12ec74bf8
   ]
  },
  {
   "cell_type": "code",
<<<<<<< HEAD
=======
<<<<<<< HEAD
=======
   "execution_count": 19,
   "metadata": {},
   "outputs": [
    {
     "data": {
      "image/png": "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\n",
      "text/plain": [
       "<Figure size 432x288 with 1 Axes>"
      ]
     },
     "metadata": {
      "needs_background": "light"
     },
     "output_type": "display_data"
    }
   ],
   "source": [
    "import matplotlib.pyplot as plt\n",
    "\n",
    "from collections import Counter \n",
    "\n",
    "counts, _ , _= random_color(dic, 1000)\n",
    "\n",
    "number_of_unique_values = len(Counter(counts).keys())\n",
    "\n",
    "plt.hist(counts,bins = number_of_unique_values)\n",
    "plt.show()"
   ]
  },
  {
   "cell_type": "code",
>>>>>>> 880e94334f0fe6e8811aa5eb6040f82a1bc27a4c
   "execution_count": null,
   "metadata": {},
   "outputs": [],
   "source": []
  },
  {
   "cell_type": "code",
>>>>>>> 6626b4fc56da2f8e825a9d9b1dd63cd12ec74bf8
   "execution_count": null,
   "metadata": {},
   "outputs": [],
   "source": []
  }
 ],
 "metadata": {
  "kernelspec": {
   "display_name": "Python 3",
   "language": "python",
   "name": "python3"
  },
  "language_info": {
   "codemirror_mode": {
    "name": "ipython",
    "version": 3
   },
   "file_extension": ".py",
   "mimetype": "text/x-python",
   "name": "python",
   "nbconvert_exporter": "python",
   "pygments_lexer": "ipython3",
<<<<<<< HEAD
   "version": "3.7.1"
=======
   "version": "3.7.4"
>>>>>>> 6626b4fc56da2f8e825a9d9b1dd63cd12ec74bf8
  }
 },
 "nbformat": 4,
 "nbformat_minor": 2
}
