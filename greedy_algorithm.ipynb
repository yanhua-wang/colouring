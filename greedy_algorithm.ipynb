{
 "cells": [
  {
   "cell_type": "code",
   "execution_count": 1,
   "metadata": {},
   "outputs": [
    {
     "ename": "ModuleNotFoundError",
     "evalue": "No module named 'numpy'",
     "output_type": "error",
     "traceback": [
      "\u001b[1;31m---------------------------------------------------------------------------\u001b[0m",
      "\u001b[1;31mModuleNotFoundError\u001b[0m                       Traceback (most recent call last)",
      "\u001b[1;32m<ipython-input-1-6f61cb980117>\u001b[0m in \u001b[0;36m<module>\u001b[1;34m\u001b[0m\n\u001b[1;32m----> 1\u001b[1;33m \u001b[1;32mimport\u001b[0m \u001b[0mnumpy\u001b[0m \u001b[1;32mas\u001b[0m \u001b[0mnp\u001b[0m\u001b[1;33m\u001b[0m\u001b[1;33m\u001b[0m\u001b[0m\n\u001b[0m\u001b[0;32m      2\u001b[0m \u001b[1;32mimport\u001b[0m \u001b[0mpandas\u001b[0m \u001b[1;32mas\u001b[0m \u001b[0mpd\u001b[0m\u001b[1;33m\u001b[0m\u001b[1;33m\u001b[0m\u001b[0m\n\u001b[0;32m      3\u001b[0m \u001b[1;32mimport\u001b[0m \u001b[0mitertools\u001b[0m\u001b[1;33m\u001b[0m\u001b[1;33m\u001b[0m\u001b[0m\n",
      "\u001b[1;31mModuleNotFoundError\u001b[0m: No module named 'numpy'"
     ]
    }
   ],
   "source": [
    "import numpy as np\n",
    "import pandas as pd\n",
    "import itertools"
   ]
  },
  {
   "cell_type": "markdown",
   "metadata": {},
   "source": [
    "Read csv into pandas dataframe"
   ]
  },
  {
   "cell_type": "code",
   "execution_count": 3,
   "metadata": {},
   "outputs": [],
   "source": [
    "data = pd.read_csv('yncmods.csv')"
   ]
  },
  {
   "cell_type": "markdown",
   "metadata": {},
   "source": [
    "## Conditions for being neighbours \n",
    "\n",
    "1000 clashes with 1000 and 2000; \n",
    "2000 clashes with 1000 and 2000; \n",
    "3000 clashes with 3000 and 4000; \n",
    "4000 clashes with 3000 and 4000. \n",
    "Prof cannot be the same "
   ]
  },
  {
   "cell_type": "code",
   "execution_count": 4,
   "metadata": {},
   "outputs": [
    {
     "name": "stdout",
     "output_type": "stream",
     "text": [
      "{'YSC1212': ['YSC1216', 'YSC2209', 'YSC2213', 'YSC2221', 'YSC2229', 'YSC2232', 'YSC2239', 'YSC2244'], 'YSC1216': ['YSC1212', 'YSC2209', 'YSC2213', 'YSC2221', 'YSC2229', 'YSC2232', 'YSC2239', 'YSC2244'], 'YSC2209': ['YSC1212', 'YSC1216', 'YSC2213', 'YSC2221', 'YSC2229', 'YSC2232', 'YSC2239', 'YSC2244', 'YSC3239'], 'YSC2213': ['YSC1212', 'YSC1216', 'YSC2209', 'YSC2221', 'YSC2229', 'YSC2232', 'YSC2239', 'YSC2244'], 'YSC2221': ['YSC1212', 'YSC1216', 'YSC2209', 'YSC2213', 'YSC2229', 'YSC2232', 'YSC2239', 'YSC2244'], 'YSC2229': ['YSC1212', 'YSC1216', 'YSC2209', 'YSC2213', 'YSC2221', 'YSC2232', 'YSC2239', 'YSC2244'], 'YSC2232': ['YSC1212', 'YSC1216', 'YSC2209', 'YSC2213', 'YSC2221', 'YSC2229', 'YSC2239', 'YSC2244'], 'YSC2239': ['YSC1212', 'YSC1216', 'YSC2209', 'YSC2213', 'YSC2221', 'YSC2229', 'YSC2232', 'YSC2244'], 'YSC2244': ['YSC1212', 'YSC1216', 'YSC2209', 'YSC2213', 'YSC2221', 'YSC2229', 'YSC2232', 'YSC2239', 'YSC3217'], 'YSC3217': ['YSC2244', 'YSC3217', 'YSC3239', 'YSC3240', 'YSC3249', 'YSC3252', 'YSC4224', 'YSC4225'], 'YSC3239': ['YSC2209', 'YSC3217', 'YSC3239', 'YSC3240', 'YSC3249', 'YSC3252', 'YSC4224', 'YSC4225'], 'YSC3240': ['YSC3217', 'YSC3239', 'YSC3240', 'YSC3249', 'YSC3252', 'YSC4224', 'YSC4225'], 'YSC3249': ['YSC3217', 'YSC3239', 'YSC3240', 'YSC3249', 'YSC3252', 'YSC4224', 'YSC4225'], 'YSC3252': ['YSC3217', 'YSC3239', 'YSC3240', 'YSC3249', 'YSC3252', 'YSC4224', 'YSC4225'], 'YSC4224': ['YSC3217', 'YSC3239', 'YSC3240', 'YSC3249', 'YSC3252', 'YSC4224', 'YSC4225']}\n"
     ]
    }
   ],
   "source": [
    "dic = {}\n",
    "\n",
    "for i in range(0, 15):\n",
    "    # Add modules of the same level as values\n",
    "    if (data[\"Level\"][i] == 1000) or (data[\"Level\"][i] == 2000): \n",
    "        dic[data[\"Module Code\"][i]] = \\\n",
    "        data[((data[\"Level\"] == 1000) | (data[\"Level\"] == 2000) | (data[\"Instructor\"] == data[\"Instructor\"][i])) \\\n",
    "             & (data[\"Module Code\"] != data[\"Module Code\"][i])][\"Module Code\"].tolist()\n",
    "    elif (data[\"Level\"][i] == 3000) or (data[\"Level\"][i] == 4000): \n",
    "        dic[data[\"Module Code\"][i]] = \\\n",
    "        data[((data[\"Level\"] == 3000) | (data[\"Level\"] == 4000)) | (data[\"Instructor\"] == data[\"Instructor\"][i])\n",
    "             & (data[\"Module Code\"] != data[\"Module Code\"][i])][\"Module Code\"].tolist()\n",
    "        \n",
    "print(dic)"
   ]
  },
  {
   "cell_type": "code",
   "execution_count": null,
   "metadata": {},
   "outputs": [],
   "source": [
    "list(dic.keys())"
   ]
  },
  {
   "cell_type": "code",
   "execution_count": null,
   "metadata": {},
   "outputs": [],
   "source": [
    "if data[\"Level\"][i] = 1000:\n",
    "    for i in range(0, 15):\n",
    "        if "
   ]
  },
  {
   "cell_type": "code",
   "execution_count": null,
   "metadata": {},
   "outputs": [],
   "source": [
    "def make_matrix(data):\n",
    "    for i in (0, len(data)-1):\n",
    "        \n",
    "        data[\"Instructor\"]"
   ]
  },
  {
   "cell_type": "code",
   "execution_count": null,
   "metadata": {},
   "outputs": [],
   "source": [
    "def first_available(color_list):\n",
    "    \"\"\"Return smallest non-negative integer not in the given list of colors.\"\"\"\n",
    "    color_set = set(color_list)\n",
    "    count = 0\n",
    "    while True:\n",
    "        if count not in color_set:\n",
    "            return count\n",
    "        count += 1\n",
    "        \n",
    "def greedy_color(G, order):\n",
    "    \"\"\"Find the greedy coloring of G in the given order.\n",
    "    The representation of G is assumed to be like https://www.python.org/doc/essays/graphs/\n",
    "    in allowing neighbors of a node/vertex to be iterated over by \"for w in G[node]\".\n",
    "    The return value is a dictionary mapping vertices to their colors.\"\"\"\n",
    "    color = dict()\n",
    "    for node in order:\n",
    "        used_neighbour_colors = [color[nbr] for nbr in G[node]\n",
    "                                 if nbr in color]\n",
    "        color[node] = first_available(used_neighbour_colors)\n",
    "    return color\n",
    "\n",
    "\n",
    "def order(dic): \n",
    "    for i in list(dic.keys()):\n",
    "        print(len(dic[i]))\n",
    "\n",
    "diclist = list(dic.keys())\n",
    "diclist.reverse()\n",
    "\n",
    "        \n",
    "print(greedy_color(dic, diclist))"
   ]
  },
  {
   "cell_type": "code",
   "execution_count": null,
   "metadata": {},
   "outputs": [],
   "source": [
    "import random\n",
    "\"\"\"\n",
    "RANDOM:\n",
    "Iterate the following process I times:\n",
    "  Randomly permute the vertices;\n",
    "  Apply GREEDY;\n",
    "  If the current coloring is the best one found, save it.\n",
    "Then report the best coloring found.\n",
    "\"\"\"\n",
    "\n",
    "def random_color(G, I):\n",
    "    bestCount = 200000000\n",
    "    bestColoring = {}\n",
    "    for i in range(1,I):\n",
    "        random.shuffle(list(G.keys()))\n",
    "        bestColoring = greedy_color(G,G.keys())\n",
    "        count = max(list(bestColoring.values()))\n",
    "        if count < bestCount:\n",
    "            bestCount = count\n",
    "            bestColoring = G\n",
    "    return bestColoring, bestCount\n",
    "\n",
    "print(random_color(dic, 30))"
   ]
  },
  {
   "cell_type": "code",
   "execution_count": null,
   "metadata": {},
   "outputs": [],
   "source": []
  }
 ],
 "metadata": {
  "kernelspec": {
   "display_name": "Python 3",
   "language": "python",
   "name": "python3"
  },
  "language_info": {
   "codemirror_mode": {
    "name": "ipython",
    "version": 3
   },
   "file_extension": ".py",
   "mimetype": "text/x-python",
   "name": "python",
   "nbconvert_exporter": "python",
   "pygments_lexer": "ipython3",
   "version": "3.7.4"
  }
 },
 "nbformat": 4,
 "nbformat_minor": 2
}
